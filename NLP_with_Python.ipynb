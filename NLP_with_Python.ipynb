{
  "nbformat": 4,
  "nbformat_minor": 0,
  "metadata": {
    "colab": {
      "name": "NLP with Python.ipynb",
      "provenance": [],
      "collapsed_sections": [],
      "authorship_tag": "ABX9TyMMMq16AH5egItQ/ezM5+je"
    },
    "kernelspec": {
      "name": "python3",
      "display_name": "Python 3"
    }
  },
  "cells": [
    {
      "cell_type": "markdown",
      "metadata": {
        "id": "_jA_gJyhqMel"
      },
      "source": [
        "# Introducción a Python y NLP"
      ]
    },
    {
      "cell_type": "markdown",
      "metadata": {
        "id": "btob3SSEA2eO"
      },
      "source": [
        "En este *notebook*, desarrollo los ejercicios del libro *Natural Languaje Processing with Python*. Para esto, hay que importar el paquete principal **nltk** y sus dataframes asociados."
      ]
    },
    {
      "cell_type": "code",
      "metadata": {
        "id": "tCKuR6MqAvfr"
      },
      "source": [
        "%%capture\n",
        "import nltk \n",
        "nltk.download(\"book\")\n",
        "from nltk.book import *"
      ],
      "execution_count": 141,
      "outputs": []
    },
    {
      "cell_type": "code",
      "metadata": {
        "colab": {
          "base_uri": "https://localhost:8080/"
        },
        "id": "N1eKSYxNAtp5",
        "outputId": "4816e0eb-f6e2-4d8c-8e48-6cfafc6bf317"
      },
      "source": [
        "texts()"
      ],
      "execution_count": 142,
      "outputs": [
        {
          "output_type": "stream",
          "text": [
            "text1: Moby Dick by Herman Melville 1851\n",
            "text2: Sense and Sensibility by Jane Austen 1811\n",
            "text3: The Book of Genesis\n",
            "text4: Inaugural Address Corpus\n",
            "text5: Chat Corpus\n",
            "text6: Monty Python and the Holy Grail\n",
            "text7: Wall Street Journal\n",
            "text8: Personals Corpus\n",
            "text9: The Man Who Was Thursday by G . K . Chesterton 1908\n"
          ],
          "name": "stdout"
        }
      ]
    },
    {
      "cell_type": "markdown",
      "metadata": {
        "id": "qGUnkRDaBbNN"
      },
      "source": [
        "## Análisis básicos en NLP\n",
        "\n",
        "Como es clásico, la búsqueda de concordancia nos permite explorar superficialmente de qué va un texto. Las concordancias pueden mostrarse a través del método `.concordance(\"word\")`:"
      ]
    },
    {
      "cell_type": "code",
      "metadata": {
        "colab": {
          "base_uri": "https://localhost:8080/"
        },
        "id": "s1DuwJeXBlzU",
        "outputId": "8db2a408-2a9c-4d39-b52a-2e05fbd5903c"
      },
      "source": [
        "text2.concordance(\"love\")"
      ],
      "execution_count": 143,
      "outputs": [
        {
          "output_type": "stream",
          "text": [
            "Displaying 25 of 77 matches:\n",
            "priety of going , and her own tender love for all her three children determine\n",
            "es .\" \" I believe you are right , my love ; it will be better that there shoul\n",
            " . It implies everything amiable . I love him already .\" \" I think you will li\n",
            "sentiment of approbation inferior to love .\" \" You may esteem him .\" \" I have \n",
            "n what it was to separate esteem and love .\" Mrs . Dashwood now took pains to \n",
            "oner did she perceive any symptom of love in his behaviour to Elinor , than sh\n",
            " how shall we do without her ?\" \" My love , it will be scarcely a separation .\n",
            "ise . Edward is very amiable , and I love him tenderly . But yet -- he is not \n",
            "ll never see a man whom I can really love . I require so much ! He must have a\n",
            "ry possible charm .\" \" Remember , my love , that you are not seventeen . It is\n",
            "f I do not now . When you tell me to love him as a brother , I shall no more s\n",
            "hat Colonel Brandon was very much in love with Marianne Dashwood . She rather \n",
            "e were ever animated enough to be in love , must have long outlived every sens\n",
            "hirty - five anything near enough to love , to make him a desirable companion \n",
            "roach would have been spared .\" \" My love ,\" said her mother , \" you must not \n",
            "pect that the misery of disappointed love had already been known to him . This\n",
            " most melancholy order of disastrous love . CHAPTER 12 As Elinor and Marianne \n",
            "hen she considered what Marianne ' s love for him was , a quarrel seemed almos\n",
            "ctory way ;-- but you , Elinor , who love to doubt where you can -- it will no\n",
            " man whom we have all such reason to love , and no reason in the world to thin\n",
            "ded as he must be of your sister ' s love , should leave her , and leave her p\n",
            "cannot think that . He must and does love her I am sure .\" \" But with a strang\n",
            " I believe not ,\" cried Elinor . \" I love Willoughby , sincerely love him ; an\n",
            "or . \" I love Willoughby , sincerely love him ; and suspicion of his integrity\n",
            "deed a man could not very well be in love with either of her daughters , witho\n"
          ],
          "name": "stdout"
        }
      ]
    },
    {
      "cell_type": "markdown",
      "metadata": {
        "id": "DXd9vti-DGti"
      },
      "source": [
        "Expresiones que ocupan un contexto similar (como \"amor\" en el caso anterior) pueden evidenciarse con el método `.similar(\"word\")`. En el ejemplo siguiente, vemos palabras que ocupan regularmente el mismo contexto que *amor* en Orgullo y Prejuicio:"
      ]
    },
    {
      "cell_type": "code",
      "metadata": {
        "colab": {
          "base_uri": "https://localhost:8080/"
        },
        "id": "0jacqT3BDPoa",
        "outputId": "aedee56e-1fd3-4bb4-a479-4e35da57a38b"
      },
      "source": [
        "text2.similar(\"love\")"
      ],
      "execution_count": 144,
      "outputs": [
        {
          "output_type": "stream",
          "text": [
            "affection sister heart mother time see town life it dear elinor\n",
            "marianne me word family her him do regard head\n"
          ],
          "name": "stdout"
        }
      ]
    },
    {
      "cell_type": "markdown",
      "metadata": {
        "id": "OzWEl6UhDhGu"
      },
      "source": [
        "Si hacemos lo mismo con Moby Dick, vemos que el \"love\" ocupa las mismas posiciones que *mar, vida, muerte, naturaleza, hombre, barco*, mientras que en Orgullo y Prejuicio esto se reserva en el *afecto*, el pueblo, la familia. Esto es interesante en tanto es un reflejo del efecto del **campo** en la combinatoria:"
      ]
    },
    {
      "cell_type": "code",
      "metadata": {
        "colab": {
          "base_uri": "https://localhost:8080/"
        },
        "id": "oZV1r9srDlaq",
        "outputId": "24f5253a-b6e1-4af8-e6d5-240f607902ed"
      },
      "source": [
        "text1.similar(\"love\")"
      ],
      "execution_count": 145,
      "outputs": [
        {
          "output_type": "stream",
          "text": [
            "sea man it ship by him hand them whale view ships land me life death\n",
            "water way head nature fear\n"
          ],
          "name": "stdout"
        }
      ]
    },
    {
      "cell_type": "markdown",
      "metadata": {
        "id": "4R6-Jd3er1Sm"
      },
      "source": [
        "Un clásico también son los *dispersion plots*. Con este, se puede visualizar la instanciación de lexemas en un texto completo, tal como en los discursos presidenciales estadounidenses y en Orgullo y Prejuicio:"
      ]
    },
    {
      "cell_type": "code",
      "metadata": {
        "colab": {
          "base_uri": "https://localhost:8080/",
          "height": 573
        },
        "id": "JKlz6Zl2ptfr",
        "outputId": "6d2ca587-55ae-4df2-ac59-b18ee516b8df"
      },
      "source": [
        "text4.dispersion_plot([\"democracy\", \"liberty\", \"war\", \"women\"])\n",
        "text2.dispersion_plot([\"love\", \"hate\"])"
      ],
      "execution_count": 146,
      "outputs": [
        {
          "output_type": "display_data",
          "data": {
            "image/png": "[encoded data removed]",
            "text/plain": [
              "<Figure size 432x288 with 1 Axes>"
            ]
          },
          "metadata": {
            "tags": [],
            "needs_background": "light"
          }
        },
        {
          "output_type": "display_data",
          "data": {
            "image/png": "[encoded data removed]",
            "text/plain": [
              "<Figure size 432x288 with 1 Axes>"
            ]
          },
          "metadata": {
            "tags": [],
            "needs_background": "light"
          }
        }
      ]
    },
    {
      "cell_type": "markdown",
      "metadata": {
        "id": "DngGDsZFsZNe"
      },
      "source": [
        "Otro manejo básico de los textos es conocer su cantidad de **tokens** (casos) y **types** (tipos), así como las medidas de **riqueza léxica**. Así, mientras los tokens representan la cantidad de ocurrencias de un ítem, los types representan el valor único de cada ítem independiente de su número de aparición. \n",
        "\n"
      ]
    },
    {
      "cell_type": "code",
      "metadata": {
        "colab": {
          "base_uri": "https://localhost:8080/"
        },
        "id": "YAcTdQoHsg7L",
        "outputId": "867c82d8-fafd-4770-fe4f-99c5087df654"
      },
      "source": [
        "print(\"Orgullo y Prejuicio posee un total de \", len(text2), \"tokens\")\n",
        "print(\"Orgullo y Prejuicio posee un total de \", len(set(text2)), \"types\")"
      ],
      "execution_count": 147,
      "outputs": [
        {
          "output_type": "stream",
          "text": [
            "Orgullo y Prejuicio posee un total de  141576 tokens\n",
            "Orgullo y Prejuicio posee un total de  6833 types\n"
          ],
          "name": "stdout"
        }
      ]
    },
    {
      "cell_type": "markdown",
      "metadata": {
        "id": "No3oRNYhwHTo"
      },
      "source": [
        "A partir de estas medidas se obtiene la diversidad léxica, tal que\n",
        "$ riqueza = \\frac{token}{type}$. Entonces, a partir de esta ecuación, podemos decir que :"
      ]
    },
    {
      "cell_type": "code",
      "metadata": {
        "colab": {
          "base_uri": "https://localhost:8080/"
        },
        "id": "0dz2ndc7xbRI",
        "outputId": "4b023186-6683-4858-873b-101245436c70"
      },
      "source": [
        "print(\"Cada palabra en Orgullo y Prejuicio se ocupa en promedio unas\", len(text2)/len(set(text2)))"
      ],
      "execution_count": 148,
      "outputs": [
        {
          "output_type": "stream",
          "text": [
            "Cada palabra en Orgullo y Prejuicio se ocupa en promedio unas 20.719449729255086\n"
          ],
          "name": "stdout"
        }
      ]
    },
    {
      "cell_type": "markdown",
      "metadata": {
        "id": "9KeT4G9Fx8FW"
      },
      "source": [
        "Medidas como la diversidad léxica y el cálculo de porcentajes pueden operacionalizarse rápidamente en **funciones** con el operador `def`:"
      ]
    },
    {
      "cell_type": "code",
      "metadata": {
        "id": "ymfFiRliyqeI"
      },
      "source": [
        "def diversidad_lexica(text):\n",
        "  return len(text)/len(set(text))\n",
        "\n",
        "def porcentaje(count, total):\n",
        "  return 100 * count/total"
      ],
      "execution_count": 149,
      "outputs": []
    },
    {
      "cell_type": "markdown",
      "metadata": {
        "id": "zIViYTRxzKw9"
      },
      "source": [
        "Con estas funciones ya definidas, podemos ocuparlas con cualquier texto. "
      ]
    },
    {
      "cell_type": "code",
      "metadata": {
        "colab": {
          "base_uri": "https://localhost:8080/"
        },
        "id": "Bco9Xxa1yrqV",
        "outputId": "5a372890-f8fe-451b-b26f-97159523c65f"
      },
      "source": [
        "print(\"Moby Dick posee una diversidad léxica de\", diversidad_lexica(text1))"
      ],
      "execution_count": 150,
      "outputs": [
        {
          "output_type": "stream",
          "text": [
            "Moby Dick posee una diversidad léxica de 13.502044830977896\n"
          ],
          "name": "stdout"
        }
      ]
    },
    {
      "cell_type": "code",
      "metadata": {
        "colab": {
          "base_uri": "https://localhost:8080/"
        },
        "id": "YgkYtfaHzcsr",
        "outputId": "fc31ea9f-f982-44b6-8fe9-eaa5f9f12165"
      },
      "source": [
        "print(\"La palabra `love` representa un\", porcentaje(text1.count(\"love\"), len(text1)), \"de Orgullo y Prejuicio\")"
      ],
      "execution_count": 151,
      "outputs": [
        {
          "output_type": "stream",
          "text": [
            "La palabra `love` representa un 0.009201783612390201 de Orgullo y Prejuicio\n"
          ],
          "name": "stdout"
        }
      ]
    },
    {
      "cell_type": "markdown",
      "metadata": {
        "id": "FyNbySZN1WPD"
      },
      "source": [
        "Desde un punto de vista computacional, los textos son una lista de palabras y símbolos de puntuación. Con esta visión, un token posee una posición conocida como **index** (en Python los index parten en 0, en R parten en 1). El index puede ser recuperado desde una palabra o con un número:"
      ]
    },
    {
      "cell_type": "code",
      "metadata": {
        "colab": {
          "base_uri": "https://localhost:8080/"
        },
        "id": "8qUNVNOB05LZ",
        "outputId": "8e6a1bfc-3321-4352-84ca-c3177fda6757"
      },
      "source": [
        "print(\"La palabra `love` se encuentra en el index\", text2.index(\"love\"))\n",
        "print(text2[1447])"
      ],
      "execution_count": 152,
      "outputs": [
        {
          "output_type": "stream",
          "text": [
            "La palabra `love` se encuentra en el index 1447\n",
            "love\n"
          ],
          "name": "stdout"
        }
      ]
    },
    {
      "cell_type": "markdown",
      "metadata": {
        "id": "4T-z7-7E6UYs"
      },
      "source": [
        "## Frecuencias\n",
        "\n",
        "Estadísticamente, también podemos observar la distribución de frecuencia de los diferentes textos. Para esto, ocupamos la función `FreqDist()`:"
      ]
    },
    {
      "cell_type": "code",
      "metadata": {
        "colab": {
          "base_uri": "https://localhost:8080/"
        },
        "id": "eVb7vtUU6gwJ",
        "outputId": "d092c26b-d7eb-4764-e74f-5291f6f77a03"
      },
      "source": [
        "fdist2 = FreqDist(text2)\n",
        "vocabulario2 = fdist2.keys()\n",
        "print(\"La palabra `love` posee una frecuencia de\", fdist2[\"love\"])"
      ],
      "execution_count": 153,
      "outputs": [
        {
          "output_type": "stream",
          "text": [
            "La palabra `love` posee una frecuencia de 77\n"
          ],
          "name": "stdout"
        }
      ]
    },
    {
      "cell_type": "markdown",
      "metadata": {
        "id": "-J4r6brj7moO"
      },
      "source": [
        "Podemos graficar esta distribución con el método `plot(n, cumulative)` sobre el objeto `fdist2`. No obstante, muchas de las palabras que recupera son poco informativas, como determinantes o puntuaciones:\n",
        "\n"
      ]
    },
    {
      "cell_type": "code",
      "metadata": {
        "colab": {
          "base_uri": "https://localhost:8080/",
          "height": 316
        },
        "id": "3b-s9MGP8Ugh",
        "outputId": "d6d16c1a-cb90-49b2-dcd1-2e1da237fc58"
      },
      "source": [
        "fdist2.plot(50, cumulative = True)"
      ],
      "execution_count": 154,
      "outputs": [
        {
          "output_type": "display_data",
          "data": {
            "image/png": "[encoded data removed]",
            "text/plain": [
              "<Figure size 432x288 with 1 Axes>"
            ]
          },
          "metadata": {
            "tags": [],
            "needs_background": "light"
          }
        }
      ]
    },
    {
      "cell_type": "markdown",
      "metadata": {
        "id": "mFXcwOpf-P4S"
      },
      "source": [
        "Por medio de un condicional como `[w for w in V if len(w) > 4]` logramos que se seleccionen solo palabras con una extensión mayor a 4 caracteres. "
      ]
    },
    {
      "cell_type": "code",
      "metadata": {
        "colab": {
          "base_uri": "https://localhost:8080/",
          "height": 333
        },
        "id": "Yub0jyNr-TwH",
        "outputId": "8911f449-a254-4da8-edec-d66746aa6364"
      },
      "source": [
        "V = set(text2)\n",
        "long_words = [w for w in V if len(w) > 4]\n",
        "fdist_long = FreqDist(long_words)\n",
        "fdist_long.plot(50, cumulative = True)"
      ],
      "execution_count": 155,
      "outputs": [
        {
          "output_type": "display_data",
          "data": {
            "image/png": "[encoded data removed]",
            "text/plain": [
              "<Figure size 432x288 with 1 Axes>"
            ]
          },
          "metadata": {
            "tags": [],
            "needs_background": "light"
          }
        }
      ]
    },
    {
      "cell_type": "markdown",
      "metadata": {
        "id": "9-9FoMa0Bd1f"
      },
      "source": [
        "## Colocaciones y bigramas\n",
        "\n",
        "Las colocaciones son conjuntos de palabras que suelen ocurrir juntas (como *vino tinto*). La observaciones de estos implican la revisión de bigramas. Así, toda colocación es un n-grama, pero no todo n-grama es una colocación. El método `.collocations()` expone estos bigramas:"
      ]
    },
    {
      "cell_type": "code",
      "metadata": {
        "colab": {
          "base_uri": "https://localhost:8080/"
        },
        "id": "aPijapuRCwWT",
        "outputId": "daeb45c2-4eed-4a48-fba2-7f2bb41514ff"
      },
      "source": [
        "text2.collocations()"
      ],
      "execution_count": 156,
      "outputs": [
        {
          "output_type": "stream",
          "text": [
            "Colonel Brandon; Sir John; Lady Middleton; Miss Dashwood; every thing;\n",
            "thousand pounds; dare say; Miss Steeles; said Elinor; Miss Steele;\n",
            "every body; John Dashwood; great deal; Harley Street; Berkeley Street;\n",
            "Miss Dashwoods; young man; Combe Magna; every day; next morning\n"
          ],
          "name": "stdout"
        }
      ]
    },
    {
      "cell_type": "markdown",
      "metadata": {
        "id": "Uj8KcKc1C5iq"
      },
      "source": [
        "Lo interesante de las colocaciones es que muestran patrones léxicogramaticales propios de cada género o tipo de texto. En el caso anterior de Orgullo y Prejuicio, las colocaciones suelen ser nombres (e.g. *colonel Brandon*), periodos de tiempo (e.g. *every day*) y lugares (e.g. *Berkeley Street*)."
      ]
    },
    {
      "cell_type": "code",
      "metadata": {
        "colab": {
          "base_uri": "https://localhost:8080/"
        },
        "id": "lkKQ7b8EDWG1",
        "outputId": "b865e525-4212-47ec-c396-71a29a09924b"
      },
      "source": [
        "text1.collocations()"
      ],
      "execution_count": 157,
      "outputs": [
        {
          "output_type": "stream",
          "text": [
            "Sperm Whale; Moby Dick; White Whale; old man; Captain Ahab; sperm\n",
            "whale; Right Whale; Captain Peleg; New Bedford; Cape Horn; cried Ahab;\n",
            "years ago; lower jaw; never mind; Father Mapple; cried Stubb; chief\n",
            "mate; white whale; ivory leg; one hand\n"
          ],
          "name": "stdout"
        }
      ]
    },
    {
      "cell_type": "markdown",
      "metadata": {
        "id": "uMBjn4N_6wzu"
      },
      "source": [
        "Con estos recursos, entonces, es posible construir condicionales en una única línea de código que recupere los ítemes que sean `True` según condicionales:"
      ]
    },
    {
      "cell_type": "code",
      "metadata": {
        "colab": {
          "base_uri": "https://localhost:8080/"
        },
        "id": "X3QSpC8w2_nR",
        "outputId": "dc2eb657-e920-451a-c155-273ec703d3e4"
      },
      "source": [
        "sorted([w for w in set(text7) if '-' in w and 'index' in w])\n",
        "sorted([t for t in set(text2) if 'cie' in t or 'cei' in t])\n",
        "sorted([amor for amor in set(text2) if 'love' in amor])\n",
        "sorted([año for año in set(text2) if año.isdigit() and len(año) >= 4])\n",
        "len(set([word.lower() for word in text1 if word.isalpha()]))"
      ],
      "execution_count": 158,
      "outputs": [
        {
          "output_type": "execute_result",
          "data": {
            "text/plain": [
              "16948"
            ]
          },
          "metadata": {
            "tags": []
          },
          "execution_count": 158
        }
      ]
    },
    {
      "cell_type": "markdown",
      "metadata": {
        "id": "k8muM19L77Ya"
      },
      "source": [
        "Además, Python permite hacer un `loop` en el texto:\n"
      ]
    },
    {
      "cell_type": "code",
      "metadata": {
        "colab": {
          "base_uri": "https://localhost:8080/"
        },
        "id": "jjakeEBM8AZM",
        "outputId": "8f24efd8-be7e-44fa-9f5a-ba344a5547d1"
      },
      "source": [
        "tricky = sorted([w for w in set(text2) if 'cie' in w or 'cei' in w])\n",
        "for word in tricky:\n",
        "  print(word)"
      ],
      "execution_count": 159,
      "outputs": [
        {
          "output_type": "stream",
          "text": [
            "ancient\n",
            "ceiling\n",
            "conceit\n",
            "conceited\n",
            "conceive\n",
            "conscience\n",
            "conscientious\n",
            "conscientiously\n",
            "deceitful\n",
            "deceive\n",
            "deceived\n",
            "deceiving\n",
            "deficiencies\n",
            "deficiency\n",
            "deficient\n",
            "delicacies\n",
            "excellencies\n",
            "fancied\n",
            "insufficiency\n",
            "insufficient\n",
            "legacies\n",
            "perceive\n",
            "perceived\n",
            "perceiving\n",
            "prescience\n",
            "prophecies\n",
            "receipt\n",
            "receive\n",
            "received\n",
            "receiving\n",
            "society\n",
            "species\n",
            "sufficient\n",
            "sufficiently\n",
            "undeceive\n",
            "undeceiving\n"
          ],
          "name": "stdout"
        }
      ]
    },
    {
      "cell_type": "markdown",
      "metadata": {
        "id": "S-FEP3Ou8WSg"
      },
      "source": [
        "## Ejercicios\n",
        "\n",
        "1. Produce a dispersion plot of the four main protagonists in Sense and Sensibility: Elinor, Marianne, Edward, and Willoughby. What can you observe about the different roles played by the males and females in this novel? Can you identify the couples? \n",
        "\n",
        "**R::** Pareciera que las mujeres siempre están presentes en la obra, mientras que los hombres van intercalando su presencia. Es decir, cuando Edward es mencionado, Willoughby no lo es. En otras palabras, las mujeres articulan la historia y el diálogo. En cuanto a las parejas, creo que Edward se queda con Elinor, en tanto ambos dialogan mucho al final. Por su parte, Marianne y Willoughby no parecen seguir juntos."
      ]
    },
    {
      "cell_type": "code",
      "metadata": {
        "colab": {
          "base_uri": "https://localhost:8080/",
          "height": 295
        },
        "id": "xzYy3pB-_BRx",
        "outputId": "1bc373ef-91f5-4425-c6e1-18796c719ea7"
      },
      "source": [
        "text2.dispersion_plot([\"Elinor\", \"Edward\", \"Marianne\", \"Willoughby\"])"
      ],
      "execution_count": 160,
      "outputs": [
        {
          "output_type": "display_data",
          "data": {
            "image/png": "[encoded data removed]",
            "text/plain": [
              "<Figure size 432x288 with 1 Axes>"
            ]
          },
          "metadata": {
            "tags": [],
            "needs_background": "light"
          }
        }
      ]
    },
    {
      "cell_type": "markdown",
      "metadata": {
        "id": "P-1x2tMvJJRv"
      },
      "source": [
        "2. Find the collocations in text5."
      ]
    },
    {
      "cell_type": "code",
      "metadata": {
        "colab": {
          "base_uri": "https://localhost:8080/"
        },
        "id": "-x0Axup1CDqh",
        "outputId": "c00df9b2-3efd-4f66-f5bc-a311b95ecebc"
      },
      "source": [
        "text5.collocations()"
      ],
      "execution_count": 161,
      "outputs": [
        {
          "output_type": "stream",
          "text": [
            "wanna chat; PART JOIN; MODE #14-19teens; JOIN PART; PART PART;\n",
            "cute.-ass MP3; MP3 player; JOIN JOIN; times .. .; ACTION watches; guys\n",
            "wanna; song lasts; last night; ACTION sits; -...)...- S.M.R.; Lime\n",
            "Player; Player 12%; dont know; lez gurls; long time\n"
          ],
          "name": "stdout"
        }
      ]
    },
    {
      "cell_type": "markdown",
      "metadata": {
        "id": "tGWEmA4BDLon"
      },
      "source": [
        "3. Use `text9.index()` to find the index of the word sunset. You’ll need to insert this word as an argument between the parentheses. By a process of trial and error, find the slice for the complete sentence that contains this word."
      ]
    },
    {
      "cell_type": "code",
      "metadata": {
        "colab": {
          "base_uri": "https://localhost:8080/"
        },
        "id": "xQpcprb-CuZh",
        "outputId": "6a0e03e5-4c00-4db0-ff65-025da30d6d4f"
      },
      "source": [
        "print(\"El item `sunset` se encuentra en el index\", text9.index(\"sunset\"))\n",
        "text9[621:644]"
      ],
      "execution_count": 162,
      "outputs": [
        {
          "output_type": "stream",
          "text": [
            "El item `sunset` se encuentra en el index 629\n"
          ],
          "name": "stdout"
        },
        {
          "output_type": "execute_result",
          "data": {
            "text/plain": [
              "['THE',\n",
              " 'suburb',\n",
              " 'of',\n",
              " 'Saffron',\n",
              " 'Park',\n",
              " 'lay',\n",
              " 'on',\n",
              " 'the',\n",
              " 'sunset',\n",
              " 'side',\n",
              " 'of',\n",
              " 'London',\n",
              " ',',\n",
              " 'as',\n",
              " 'red',\n",
              " 'and',\n",
              " 'ragged',\n",
              " 'as',\n",
              " 'a',\n",
              " 'cloud',\n",
              " 'of',\n",
              " 'sunset',\n",
              " '.']"
            ]
          },
          "metadata": {
            "tags": []
          },
          "execution_count": 162
        }
      ]
    },
    {
      "cell_type": "markdown",
      "metadata": {
        "id": "PjjWgxa3DjDN"
      },
      "source": [
        "4. Using list addition, and the set and sorted operations, compute the vocabulary of the sentences sent1 ... sent8."
      ]
    },
    {
      "cell_type": "code",
      "metadata": {
        "colab": {
          "base_uri": "https://localhost:8080/"
        },
        "id": "c8Xj2hSdDljC",
        "outputId": "62445e2a-8ef5-478e-ce3e-e9061b60d2f1"
      },
      "source": [
        "sent_total = sent1 + sent2 + sent3 + sent4 + sent5 + sent6 + sent7 + sent8\n",
        "print(\"El total de oraciones 1...8 posee un total de tipos de\", len(sorted(set(sent_total))))"
      ],
      "execution_count": 163,
      "outputs": [
        {
          "output_type": "stream",
          "text": [
            "El total de oraciones 1...8 posee un total de tipos de 75\n"
          ],
          "name": "stdout"
        }
      ]
    },
    {
      "cell_type": "markdown",
      "metadata": {
        "id": "oGYdY1tREE8_"
      },
      "source": [
        "5. What is the difference between the following two lines? Which one will give a larger value? Will this be the case for other texts?"
      ]
    },
    {
      "cell_type": "code",
      "metadata": {
        "colab": {
          "base_uri": "https://localhost:8080/"
        },
        "id": "Ea0zHkpRESKS",
        "outputId": "80f52f0c-d6f1-4cf7-b5ed-79d5e7aeb62c"
      },
      "source": [
        "len(sorted(set([w.lower() for w in text1]))) # 17231\n",
        "len(sorted([w.lower() for w in set(text1)])) # 19317"
      ],
      "execution_count": 164,
      "outputs": [
        {
          "output_type": "execute_result",
          "data": {
            "text/plain": [
              "19317"
            ]
          },
          "metadata": {
            "tags": []
          },
          "execution_count": 164
        }
      ]
    },
    {
      "cell_type": "markdown",
      "metadata": {
        "id": "WVy6tUUqEliF"
      },
      "source": [
        "6. Write the slice expression that extracts the last two words of text2."
      ]
    },
    {
      "cell_type": "code",
      "metadata": {
        "colab": {
          "base_uri": "https://localhost:8080/"
        },
        "id": "WfqnlmQAEu1I",
        "outputId": "7e17ef0b-20d1-4b29-9055-6c586e25e143"
      },
      "source": [
        "text2[-2:]"
      ],
      "execution_count": 165,
      "outputs": [
        {
          "output_type": "execute_result",
          "data": {
            "text/plain": [
              "['THE', 'END']"
            ]
          },
          "metadata": {
            "tags": []
          },
          "execution_count": 165
        }
      ]
    },
    {
      "cell_type": "markdown",
      "metadata": {
        "id": "CsgNRNh0F_0V"
      },
      "source": [
        "7. Find all the four-letter words in the Chat Corpus (text5). With the help of a frequency distribution (FreqDist), show these words in decreasing order of fre- quency."
      ]
    },
    {
      "cell_type": "code",
      "metadata": {
        "colab": {
          "base_uri": "https://localhost:8080/",
          "height": 296
        },
        "id": "blMTs-azGA0B",
        "outputId": "e9a104a0-b9c9-485b-ab93-01b2e5593be0"
      },
      "source": [
        "four_letter = [f for f in text5 if len(f) == 4 and f.isalpha()]\n",
        "freqfour = FreqDist(four_letter)\n",
        "freqfour.plot(30, cumulative = False)"
      ],
      "execution_count": 166,
      "outputs": [
        {
          "output_type": "display_data",
          "data": {
            "image/png": "[encoded data removed]",
            "text/plain": [
              "<Figure size 432x288 with 1 Axes>"
            ]
          },
          "metadata": {
            "tags": [],
            "needs_background": "light"
          }
        }
      ]
    },
    {
      "cell_type": "markdown",
      "metadata": {
        "id": "KMIa2aROHK4-"
      },
      "source": [
        "8. Review the discussion of looping with conditions in Section 1.4. Use a combination of for and if statements to loop over the words of the movie script for Monty Python and the Holy Grail (text6) and print all the uppercase words, one per line."
      ]
    },
    {
      "cell_type": "code",
      "metadata": {
        "colab": {
          "base_uri": "https://localhost:8080/"
        },
        "id": "KOJOl4udHQkm",
        "outputId": "dcac62e0-7749-476e-92a2-f899ff9c26aa"
      },
      "source": [
        "for up in set(text6):\n",
        "  if up.isupper():\n",
        "    print(up)"
      ],
      "execution_count": 167,
      "outputs": [
        {
          "output_type": "stream",
          "text": [
            "WIFE\n",
            "BROTHER\n",
            "MINSTREL\n",
            "CARTOON\n",
            "ARTHUR\n",
            "LOVELY\n",
            "VOICE\n",
            "DIRECTOR\n",
            "HERBERT\n",
            "WOMAN\n",
            "THE\n",
            "NI\n",
            "OLD\n",
            "HISTORIAN\n",
            "GUEST\n",
            "TIM\n",
            "CROWD\n",
            "BORS\n",
            "OTHER\n",
            "SUN\n",
            "GUESTS\n",
            "LEFT\n",
            "PIGLET\n",
            "ALL\n",
            "CAMERAMAN\n",
            "I\n",
            "FATHER\n",
            "SCENE\n",
            "BLACK\n",
            "KNIGHTS\n",
            "INSPECTOR\n",
            "CHARACTER\n",
            "W\n",
            "Y\n",
            "MIDGET\n",
            "GALAHAD\n",
            "AMAZING\n",
            "FRENCH\n",
            "ROBIN\n",
            "OF\n",
            "KNIGHT\n",
            "B\n",
            "HEADS\n",
            "BRIDGEKEEPER\n",
            "SHRUBBER\n",
            "RANDOM\n",
            "PARTY\n",
            "GREEN\n",
            "CHARACTERS\n",
            "DEAD\n",
            "A\n",
            "CONCORDE\n",
            "PRISONER\n",
            "BEDEVERE\n",
            "KING\n",
            "PRINCE\n",
            "CRONE\n",
            "MIDDLE\n",
            "DINGO\n",
            "HEAD\n",
            "WITCH\n",
            "MAYNARD\n",
            "SIR\n",
            "O\n",
            "CRASH\n",
            "SOLDIER\n",
            "DENNIS\n",
            "GOD\n",
            "CRAPPER\n",
            "SENTRY\n",
            "ZOOT\n",
            "CUSTOMER\n",
            "MASTER\n",
            "MONKS\n",
            "ENCHANTER\n",
            "ARMY\n",
            "GUARD\n",
            "VILLAGER\n",
            "C\n",
            "MAN\n",
            "ROGER\n",
            "OFFICER\n",
            "RIGHT\n",
            "N\n",
            "PRINCESS\n",
            "PATSY\n",
            "S\n",
            "GIRLS\n",
            "GUARDS\n",
            "BRIDE\n",
            "WINSTON\n",
            "STUNNER\n",
            "LUCKY\n",
            "NARRATOR\n",
            "PERSON\n",
            "VILLAGERS\n",
            "ANIMATOR\n",
            "SECOND\n",
            "U\n",
            "LAUNCELOT\n",
            "CART\n"
          ],
          "name": "stdout"
        }
      ]
    },
    {
      "cell_type": "markdown",
      "metadata": {
        "id": "Hp7qMPvJJslG"
      },
      "source": [
        "9. Write expressions for finding all words in text6 that meet the following conditions:\n",
        "\n",
        "\n",
        "1.   Ending in ize\n",
        "2.   Containing the letter z\n",
        "3.   Containing the sequence of letters pt\n",
        "4.   All lowercase letters except for an initial capital (i.e., titlecase)\n",
        "\n"
      ]
    },
    {
      "cell_type": "code",
      "metadata": {
        "id": "aerGwDmcKUdX"
      },
      "source": [
        "%%capture\n",
        "z = sorted([w for w in set(text6) if 'z' in w])\n",
        "ize = sorted([w for w in set(text6) if w.endswith(\"ize\")])\n",
        "pt = sorted([w for w in set(text6) if 'pt' in w])\n",
        "title = sorted([w for w in set(text6) if w.istitle()])"
      ],
      "execution_count": 168,
      "outputs": []
    },
    {
      "cell_type": "markdown",
      "metadata": {
        "id": "OyTWrzCkMEC7"
      },
      "source": [
        "8. **Define sent to be the list of words ['she', 'sells', 'sea', 'shells', 'by', 'the', 'sea', 'shore']. Now write code to perform the following tasks:**\n",
        "\n",
        "\n",
        "1. Print all words beginning with sh.\n",
        "2. Print all words longer than four characters"
      ]
    },
    {
      "cell_type": "code",
      "metadata": {
        "colab": {
          "base_uri": "https://localhost:8080/"
        },
        "id": "bYWhW_7WMPen",
        "outputId": "88c405e4-52fa-4f4a-d980-932366ca2aa4"
      },
      "source": [
        "sent =  ['she', 'sells', 'sea', 'shells', 'by', 'the', 'sea', 'shore']\n",
        "sh = sorted([w for w in sent if w.startswith(\"sh\")])\n",
        "longer_than_four = sorted([f for f in sent if len(f) > 4])\n",
        "print(\"Las palabras que empiezan con `sh` son\", sh)\n",
        "print(\"Las palabras mayores a cuatro letras son\", longer_than_four)"
      ],
      "execution_count": 169,
      "outputs": [
        {
          "output_type": "stream",
          "text": [
            "Las palabras que empiezan con `sh` son ['she', 'shells', 'shore']\n",
            "Las palabras mayores a cuatro letras son ['sells', 'shells', 'shore']\n"
          ],
          "name": "stdout"
        }
      ]
    },
    {
      "cell_type": "markdown",
      "metadata": {
        "id": "wisZhDOuNIOa"
      },
      "source": [
        "9.**What does the following Python code do? sum([len(w) for w in text1]) Can you use it to work out the average word length of a text?**\n",
        "\n",
        "Este código suma el largo total de las palabras en el text1"
      ]
    },
    {
      "cell_type": "code",
      "metadata": {
        "colab": {
          "base_uri": "https://localhost:8080/"
        },
        "id": "Byg7_oaGNP7d",
        "outputId": "4affcafc-f7f4-4fef-d30e-457f377e0b14"
      },
      "source": [
        "mean_word = sum([len(w) for w in text1])/len(text1)\n",
        "print(\"El texto 1 posee un largo medio de palabra de\", round(mean_word, 1))"
      ],
      "execution_count": 170,
      "outputs": [
        {
          "output_type": "stream",
          "text": [
            "El texto 1 posee un largo medio de palabra de 3.8\n"
          ],
          "name": "stdout"
        }
      ]
    },
    {
      "cell_type": "markdown",
      "metadata": {
        "id": "IdtvxJVAOaMd"
      },
      "source": [
        "10. **Define a function called vocab_size(text) that has a single parameter for the text, and which returns the vocabulary size of the text.**"
      ]
    },
    {
      "cell_type": "code",
      "metadata": {
        "colab": {
          "base_uri": "https://localhost:8080/"
        },
        "id": "_4qsnOA9ObiM",
        "outputId": "552a6ab0-3c6a-41a4-fe02-340c2bfac019"
      },
      "source": [
        "def vocab_size(text):\n",
        "  types = len(set(text))\n",
        "  token = len(text)\n",
        "  richness = token/types\n",
        "  return print(\"El texto posee un tamaño de vocabulario de\", token, \"tokens y\", types, \"types\", \"y una diversidad de\", round(richness, 1))\n",
        "\n",
        "vocab_size(text1)"
      ],
      "execution_count": 171,
      "outputs": [
        {
          "output_type": "stream",
          "text": [
            "El texto posee un tamaño de vocabulario de 260819 tokens y 19317 types y una diversidad de 13.5\n"
          ],
          "name": "stdout"
        }
      ]
    },
    {
      "cell_type": "markdown",
      "metadata": {
        "id": "gDG-hp6uWJ0N"
      },
      "source": [
        "# Acceder a corpora y recursos léxicos\n",
        "\n"
      ]
    },
    {
      "cell_type": "markdown",
      "metadata": {
        "id": "R7nqCi23YISv"
      },
      "source": [
        "El paque `nltk` posee múltiples fuentes de corpus. Una de esta son los textos de la Biblioteca Gutemberg, con libros liberados de derechos de autor. Estos pueden ser accedidos libremente. No obstante, suelen ser libros en lengua inglesa."
      ]
    },
    {
      "cell_type": "markdown",
      "metadata": {
        "id": "CSgb5bUMmXzw"
      },
      "source": [
        "## Corpora en inglés"
      ]
    },
    {
      "cell_type": "code",
      "metadata": {
        "colab": {
          "base_uri": "https://localhost:8080/"
        },
        "id": "2eXloI7EYWIS",
        "outputId": "e25ab21f-a715-4e3e-e154-784744f146b8"
      },
      "source": [
        "nltk.corpus.gutenberg.fileids()"
      ],
      "execution_count": 172,
      "outputs": [
        {
          "output_type": "execute_result",
          "data": {
            "text/plain": [
              "['austen-emma.txt',\n",
              " 'austen-persuasion.txt',\n",
              " 'austen-sense.txt',\n",
              " 'bible-kjv.txt',\n",
              " 'blake-poems.txt',\n",
              " 'bryant-stories.txt',\n",
              " 'burgess-busterbrown.txt',\n",
              " 'carroll-alice.txt',\n",
              " 'chesterton-ball.txt',\n",
              " 'chesterton-brown.txt',\n",
              " 'chesterton-thursday.txt',\n",
              " 'edgeworth-parents.txt',\n",
              " 'melville-moby_dick.txt',\n",
              " 'milton-paradise.txt',\n",
              " 'shakespeare-caesar.txt',\n",
              " 'shakespeare-hamlet.txt',\n",
              " 'shakespeare-macbeth.txt',\n",
              " 'whitman-leaves.txt']"
            ]
          },
          "metadata": {
            "tags": []
          },
          "execution_count": 172
        }
      ]
    },
    {
      "cell_type": "markdown",
      "metadata": {
        "id": "-cHDSUwHYdaJ"
      },
      "source": [
        "Para seleccionar uno de estos en específico, el método `corpus` selecciona el corpus en `nltk`. El método `gutemberg` selecciona la librería específica, y `words` tokeniza las palabras del texto seleccionado `(austen-emma.txt)`. Otro método es `import`, que importa todos los textos de `gutenberg`. Otras fuentes de textos son `webtext`, con textos extraidos de internet general a partir de webscrapping, `nps_chat` de la *Naval Postgraduate School*, el corpus `brown` con múltiples géneros (desde ficción pasando por noticias hasta hobbies), `reuters` con textos noticiosos e `inaugural` con los discursos de inicio de gobierno en EEUU."
      ]
    },
    {
      "cell_type": "code",
      "metadata": {
        "id": "WIMJMz_iYk2x"
      },
      "source": [
        "emma = nltk.corpus.gutenberg.words('austen-emma.txt')\n",
        "from nltk.corpus import gutenberg\n",
        "from nltk.corpus import brown"
      ],
      "execution_count": 173,
      "outputs": []
    },
    {
      "cell_type": "markdown",
      "metadata": {
        "id": "hVDjNA_Vgg3J"
      },
      "source": [
        "A partir de esta variedad de corpus, podemos explorar por ejemplo la presencia de adverbios modales en las editoriales de prensa:"
      ]
    },
    {
      "cell_type": "code",
      "metadata": {
        "colab": {
          "base_uri": "https://localhost:8080/"
        },
        "id": "jt8s1_0Bf7mM",
        "outputId": "afa8102e-ee1a-4969-f9e1-fe0996e62a83"
      },
      "source": [
        "editorial_text = brown.words(categories='editorial')\n",
        "fdist = nltk.FreqDist([w.lower() for w in editorial_text])\n",
        "modals = ['can', 'could', 'may', 'might', 'must', 'will']\n",
        "for m in modals:\n",
        "  print (m + ':', fdist[m])"
      ],
      "execution_count": 174,
      "outputs": [
        {
          "output_type": "stream",
          "text": [
            "can: 124\n",
            "could: 57\n",
            "may: 79\n",
            "might: 39\n",
            "must: 55\n",
            "will: 235\n"
          ],
          "name": "stdout"
        }
      ]
    },
    {
      "cell_type": "markdown",
      "metadata": {
        "id": "2-vlbaoghDEr"
      },
      "source": [
        "O contar la cantidad de pronombres interrogativos en el mismo género:"
      ]
    },
    {
      "cell_type": "code",
      "metadata": {
        "colab": {
          "base_uri": "https://localhost:8080/"
        },
        "id": "NHJ8oqOZhIRR",
        "outputId": "7cca0fc6-7558-4742-cc93-c3352a9b6f66"
      },
      "source": [
        "wh = ['when', 'where', 'when', 'what', 'why', 'who']\n",
        "for w in wh:\n",
        "  print(w + ':', fdist[w])"
      ],
      "execution_count": 175,
      "outputs": [
        {
          "output_type": "stream",
          "text": [
            "when: 123\n",
            "where: 45\n",
            "when: 123\n",
            "what: 113\n",
            "why: 23\n",
            "who: 177\n"
          ],
          "name": "stdout"
        }
      ]
    },
    {
      "cell_type": "markdown",
      "metadata": {
        "id": "pUXDr1JHisGq"
      },
      "source": [
        "Con corpora con datos temporales, es posible visualizar el uso de palabras a través del tiempo. En este caso, el corpus `inaugural` nos permite esto:\n"
      ]
    },
    {
      "cell_type": "code",
      "metadata": {
        "colab": {
          "base_uri": "https://localhost:8080/",
          "height": 295
        },
        "id": "Oc5cyebui0u2",
        "outputId": "59a8def0-6295-45ba-dfbc-0628893446e3"
      },
      "source": [
        "from nltk.corpus import inaugural\n",
        "inaugural.fileids()\n",
        "\n",
        "cfd = nltk.ConditionalFreqDist(\n",
        "    (target, fileid[:4])\n",
        "    for fileid in inaugural.fileids()\n",
        "    for w in inaugural.words(fileid)\n",
        "    for target in ['america', 'citizen']\n",
        "    if w.lower().startswith(target))\n",
        "\n",
        "cfd.plot()"
      ],
      "execution_count": 176,
      "outputs": [
        {
          "output_type": "display_data",
          "data": {
            "image/png": "[encoded data removed]",
            "text/plain": [
              "<Figure size 432x288 with 1 Axes>"
            ]
          },
          "metadata": {
            "tags": [],
            "needs_background": "light"
          }
        }
      ]
    },
    {
      "cell_type": "markdown",
      "metadata": {
        "id": "AJi3kaWDmdmq"
      },
      "source": [
        "## Corpora en otras lenguas"
      ]
    },
    {
      "cell_type": "markdown",
      "metadata": {
        "id": "DdWkEPLrnHgd"
      },
      "source": [
        "Si bien corpora en otras lenguas no son muy comunes, están disponible `cess_esp`, `floresta`, `indian` y `udhr`. Este último es la Declaración  Universal de Derechos Humanos, disponible en más de 300 idiomas. El libro entrega el siguiente código, donde se observa la extensión media de las palabras en diferentes idiomas:"
      ]
    },
    {
      "cell_type": "code",
      "metadata": {
        "colab": {
          "base_uri": "https://localhost:8080/",
          "height": 282
        },
        "id": "qMyFBhOZmf7H",
        "outputId": "6ebeaa70-be07-4ff8-9361-e29a0c27953d"
      },
      "source": [
        "from nltk.corpus import udhr\n",
        "languages = ['Chickasaw', 'English', 'German_Deutsch',\n",
        "             'Greenlandic_Inuktikut', 'Hungarian_Magyar', 'Ibibio_Efik'] \n",
        "\n",
        "cfd = nltk.ConditionalFreqDist(\n",
        "    (lang, len(word)) # condition = language, event = len(word)\n",
        "    for lang in languages\n",
        "    for word in udhr.words(lang + '-Latin1'))\n",
        "cfd.plot(cumulative=True)"
      ],
      "execution_count": 177,
      "outputs": [
        {
          "output_type": "display_data",
          "data": {
            "image/png": "[encoded data removed]",
            "text/plain": [
              "<Figure size 432x288 with 1 Axes>"
            ]
          },
          "metadata": {
            "tags": [],
            "needs_background": "light"
          }
        }
      ]
    },
    {
      "cell_type": "markdown",
      "metadata": {
        "id": "zFIbUHWcoKXi"
      },
      "source": [
        "Así, por ejemplo, podemos ver cuáles son las letras más comunes en las diferentes lenguas, como en este caso del español:"
      ]
    },
    {
      "cell_type": "code",
      "metadata": {
        "colab": {
          "base_uri": "https://localhost:8080/",
          "height": 279
        },
        "id": "xCFZwCcfoKl2",
        "outputId": "2f5b19e3-3f3e-40b4-f9e4-88f751ba1755"
      },
      "source": [
        "spanish = ['Spanish-Latin1']\n",
        "raw_text = udhr.raw(spanish)\n",
        "nltk.FreqDist(raw_text).plot(20)"
      ],
      "execution_count": 178,
      "outputs": [
        {
          "output_type": "display_data",
          "data": {
            "image/png": "[encoded data removed]",
            "text/plain": [
              "<Figure size 432x288 with 1 Axes>"
            ]
          },
          "metadata": {
            "tags": [],
            "needs_background": "light"
          }
        }
      ]
    },
    {
      "cell_type": "markdown",
      "metadata": {
        "id": "EWIWr0EBskdp"
      },
      "source": [
        "## Distribución de Frecuencia Condicional\n",
        "\n",
        "Esta distribución de frecuencia permite realizar el conteo a partir de diferentes niveles de un factor (e.g. hablantes, géneros, estudiantes, etc.). Cada uno de los niveles representa una condición sobre la cual se realiza el conteo."
      ]
    },
    {
      "cell_type": "code",
      "metadata": {
        "colab": {
          "base_uri": "https://localhost:8080/"
        },
        "id": "5RLhRRBED5Sp",
        "outputId": "0208b3eb-1df8-4840-fde7-166d0c2bce16"
      },
      "source": [
        "from nltk.corpus import udhr # importa el corpus udhr\n",
        "languages = ['German_Deutsch', 'English'] # selecciona los idiomas de interes \n",
        "\n",
        "cfd = nltk.ConditionalFreqDist(\n",
        "    (lang, len(word)) # condition = lang, event = len(word)\n",
        "    for lang in languages # para cada lenguaje en los lenguaje seleccionados \n",
        "    for word in udhr.words(lang + '-Latin1')) # y para cada palabra en entos lenguajes, calcula frecuencia\n",
        "\n",
        "cfd.tabulate(conditions=['English', #tabula para ambos lenguaje\n",
        "                         'German_Deutsch'],\n",
        "             samples = range(10), cumulative = True) # agrupa según el largo de sus palabras la cantidad"
      ],
      "execution_count": 179,
      "outputs": [
        {
          "output_type": "stream",
          "text": [
            "                  0    1    2    3    4    5    6    7    8    9 \n",
            "       English    0  185  525  883  997 1166 1283 1440 1558 1638 \n",
            "German_Deutsch    0  171  263  614  717  894 1013 1110 1213 1275 \n"
          ],
          "name": "stdout"
        }
      ]
    },
    {
      "cell_type": "markdown",
      "metadata": {
        "id": "1yTnyNbaJkJg"
      },
      "source": [
        "Your Turn: Working with the news and romance genres from the Brown Corpus, find out which days of the week are most newsworthy, and which are most romantic. Define a variable called days containing alistofdaysoftheweek,i.e.,['Monday', ...].Nowtabulatethecounts for these words using cfd.tabulate(samples=days). Now try the same thing using plot in place of tabulate. You may control the output order of days with the help of an extra parameter: conditions=['Monday', ...]."
      ]
    },
    {
      "cell_type": "code",
      "metadata": {
        "colab": {
          "base_uri": "https://localhost:8080/"
        },
        "id": "gwP7JSnlKrFL",
        "outputId": "8854f156-3de7-44b7-e6cb-7f8cb7933b01"
      },
      "source": [
        "from nltk.corpus import brown\n",
        "days = ['Monday', 'Tuesday', 'Wednesday', 'Thursday', 'Friday', 'Saturday', 'Sunday']\n",
        "\n",
        "genre_word = [(genre, word)\n",
        "    for genre in ['news', 'romance']\n",
        "    for word in brown.words(categories=genre)]\n",
        "\n",
        "\n",
        "cfd = nltk.ConditionalFreqDist(genre_word)\n",
        "cfd.tabulate(samples = days)"
      ],
      "execution_count": 180,
      "outputs": [
        {
          "output_type": "stream",
          "text": [
            "           Monday   Tuesday Wednesday  Thursday    Friday  Saturday    Sunday \n",
            "   news        54        43        22        20        41        33        51 \n",
            "romance         2         3         3         1         3         4         5 \n"
          ],
          "name": "stdout"
        }
      ]
    },
    {
      "cell_type": "markdown",
      "metadata": {
        "id": "5VYFDZzyMcwX"
      },
      "source": [
        "Esta distribución podemos graficarla:"
      ]
    },
    {
      "cell_type": "code",
      "metadata": {
        "colab": {
          "base_uri": "https://localhost:8080/",
          "height": 327
        },
        "id": "fFPEnRuCMfMf",
        "outputId": "61ab69c1-01b3-4756-a601-25ab728075e6"
      },
      "source": [
        "cfd.plot(cumulative = False,\n",
        "         samples = days)"
      ],
      "execution_count": 181,
      "outputs": [
        {
          "output_type": "display_data",
          "data": {
            "image/png": "[encoded data removed]",
            "text/plain": [
              "<Figure size 432x288 with 1 Axes>"
            ]
          },
          "metadata": {
            "tags": [],
            "needs_background": "light"
          }
        }
      ]
    },
    {
      "cell_type": "markdown",
      "metadata": {
        "id": "4V7L5pN4PozU"
      },
      "source": [
        "## Generación de texto aleatorio\n",
        "\n",
        "A partir de bigramas, podemos construir un generador de texto. Este toma la probabilidad de aparición de los bigramas y su palabra más frecuente siguiente. Así, se ven encadenando los bigramas. No obstante, la simpleza de este método no entrega buenos resutlados en la concatenación:"
      ]
    },
    {
      "cell_type": "code",
      "metadata": {
        "colab": {
          "base_uri": "https://localhost:8080/"
        },
        "id": "yjhhh88JRbap",
        "outputId": "d58de554-81ac-4926-c195-620efd738e42"
      },
      "source": [
        "def generate_model(cfdist, word, num=15): \n",
        "  for i in range(num): # cuenta hasta 15 palabras\n",
        "    print (word) # imprime la palabra en `word`\n",
        "    word = cfdist[word].max() \n",
        "\n",
        "text = nltk.corpus.gutenberg.words('austen-emma.txt') # selecciona el texto\n",
        "bigrams = nltk.bigrams(text) # crea los bigramas del texto\n",
        "cfd = nltk.ConditionalFreqDist(bigrams) # obtiene distribucion condional de los bigramas\n",
        "\n",
        "generate_model(cfd, 'living')"
      ],
      "execution_count": 182,
      "outputs": [
        {
          "output_type": "stream",
          "text": [
            "living\n",
            "with\n",
            "the\n",
            "same\n",
            "time\n",
            ",\n",
            "and\n",
            "the\n",
            "same\n",
            "time\n",
            ",\n",
            "and\n",
            "the\n",
            "same\n",
            "time\n"
          ],
          "name": "stdout"
        }
      ]
    },
    {
      "cell_type": "markdown",
      "metadata": {
        "id": "9b8Kr-tvUfLF"
      },
      "source": [
        "## Fuentes léxicas\n",
        "\n"
      ]
    },
    {
      "cell_type": "code",
      "metadata": {
        "colab": {
          "base_uri": "https://localhost:8080/"
        },
        "id": "T8T2BEBIpHeW",
        "outputId": "45e64efe-cedc-4e70-e1a7-25862f7ce119"
      },
      "source": [
        "puzzle_letters = nltk.FreqDist('egivrol') # contabiliza la frecuencia\n",
        "obligatory = 'r' # fija el caracter obligatorio\n",
        "wordlist = nltk.corpus.words.words() # obtiene las palabras del corpus\n",
        "\n",
        "[w for w in wordlist if len(w) >= 6 # consigue las palabras si su extensión es mayor o igual a 6\n",
        " and obligatory in w # si incluye la letra r\n",
        " and nltk.FreqDist(w) <= puzzle_letters] # si su frecuencia de letras es menor que el target"
      ],
      "execution_count": 183,
      "outputs": [
        {
          "output_type": "execute_result",
          "data": {
            "text/plain": [
              "['glover', 'grovel', 'violer', 'virole']"
            ]
          },
          "metadata": {
            "tags": []
          },
          "execution_count": 183
        }
      ]
    },
    {
      "cell_type": "code",
      "metadata": {
        "colab": {
          "base_uri": "https://localhost:8080/",
          "height": 279
        },
        "id": "9plozR7YrEga",
        "outputId": "e9ab3754-8ca2-4623-83a4-29a69cf58164"
      },
      "source": [
        "names = nltk.corpus.names\n",
        "gender_names = [(fileid, name[-1])\n",
        "       for fileid in names.fileids()\n",
        "       for name in names.words(fileid)]\n",
        "cfd = nltk.ConditionalFreqDist(gender_names)\n",
        "cfd.plot()"
      ],
      "execution_count": 184,
      "outputs": [
        {
          "output_type": "display_data",
          "data": {
            "image/png": "[encoded data removed]",
            "text/plain": [
              "<Figure size 432x288 with 1 Axes>"
            ]
          },
          "metadata": {
            "tags": [],
            "needs_background": "light"
          }
        }
      ]
    },
    {
      "cell_type": "markdown",
      "metadata": {
        "id": "Q1ccynEGxeA6"
      },
      "source": [
        "## Ejercicios Capítulo 2\n"
      ]
    },
    {
      "cell_type": "markdown",
      "metadata": {
        "id": "Z948IlyuxhN4"
      },
      "source": [
        "2. **Use the corpus module to explore austen-persuasion.txt. How many word tokens does this book have? How many word types?**"
      ]
    },
    {
      "cell_type": "code",
      "metadata": {
        "colab": {
          "base_uri": "https://localhost:8080/"
        },
        "id": "9h3RSgagxjQY",
        "outputId": "5324b9fb-c7ba-4467-d5e7-4804212e0c88"
      },
      "source": [
        "persuasion = nltk.corpus.gutenberg.words('austen-persuasion.txt')\n",
        "vocab_size(persuasion)"
      ],
      "execution_count": 185,
      "outputs": [
        {
          "output_type": "stream",
          "text": [
            "El texto posee un tamaño de vocabulario de 98171 tokens y 6132 types y una diversidad de 16.0\n"
          ],
          "name": "stdout"
        }
      ]
    },
    {
      "cell_type": "markdown",
      "metadata": {
        "id": "GJD1Dci_yGEL"
      },
      "source": [
        "3. **Use the Brown Corpus reader nltk.corpus.brown.words() or the Web Text Corpus reader nltk.corpus.webtext.words() to access some sample text in two different genres**"
      ]
    },
    {
      "cell_type": "code",
      "metadata": {
        "id": "cKaopXR8yMd4"
      },
      "source": [
        "firefox = nltk.corpus.webtext.words('firefox.txt')\n",
        "ca01 = nltk.corpus.brown.words('ca01')"
      ],
      "execution_count": 186,
      "outputs": []
    },
    {
      "cell_type": "markdown",
      "metadata": {
        "id": "W7ekq80B3hhM"
      },
      "source": [
        "4. **Read in the texts of the State of the Union addresses,using the state_union corpus reader. Count occurrences of men, women, and people in each document. What has happened to the usage of these words over time?**"
      ]
    },
    {
      "cell_type": "code",
      "metadata": {
        "colab": {
          "base_uri": "https://localhost:8080/",
          "height": 295
        },
        "id": "9WtGMAhF3kr8",
        "outputId": "c2acfbb2-5178-45f7-c5e0-d93244f8c1b5"
      },
      "source": [
        "from nltk.corpus import inaugural\n",
        "inaugural.fileids()\n",
        "\n",
        "cfd = nltk.ConditionalFreqDist(\n",
        "    (target, fileid[:4])\n",
        "    for fileid in inaugural.fileids()\n",
        "    for w in inaugural.words(fileid)\n",
        "    for target in ['men', 'woman', 'people']\n",
        "    if w.lower().startswith(target))\n",
        "\n",
        "cfd.plot()"
      ],
      "execution_count": 187,
      "outputs": [
        {
          "output_type": "display_data",
          "data": {
            "image/png": "[encoded data removed]",
            "text/plain": [
              "<Figure size 432x288 with 1 Axes>"
            ]
          },
          "metadata": {
            "tags": [],
            "needs_background": "light"
          }
        }
      ]
    },
    {
      "cell_type": "markdown",
      "metadata": {
        "id": "gHaBkOA47dkH"
      },
      "source": [
        "5. **Investigate the holonym-meronym relations for some nouns. Remember that there are three kinds of holonym-meronym relation, so you need to use member_mer onyms(), part_meronyms(), substance_meronyms(), member_holonyms(), part_holonyms(), and substance_holonyms()**"
      ]
    },
    {
      "cell_type": "code",
      "metadata": {
        "colab": {
          "base_uri": "https://localhost:8080/"
        },
        "id": "gul5VEjL7hv_",
        "outputId": "831806ad-1370-4acd-f238-7d79dde0fb19"
      },
      "source": [
        "from nltk.corpus import wordnet as wn\n",
        "\n",
        "print(\"El merónimo parte de dog es\", wn.synset('dog.n.01').part_meronyms())\n",
        "print(\"El merónimo miembro de dog es\", wn.synset('dog.n.01').member_meronyms())\n",
        "print(\"El merónimo sustancia de dog es\",wn.synset('dog.n.01').substance_meronyms())\n",
        "print(\"El holónimo parte de dog es\",wn.synset('dog.n.01').part_holonyms())\n",
        "print(\"El holónimo miembro de dog es\",wn.synset('dog.n.01').member_holonyms())\n",
        "print(\"El holónimo sustancia de dog es\",wn.synset('dog.n.01').substance_holonyms())"
      ],
      "execution_count": 188,
      "outputs": [
        {
          "output_type": "stream",
          "text": [
            "El merónimo parte de dog es [Synset('flag.n.07')]\n",
            "El merónimo miembro de dog es []\n",
            "El merónimo sustancia de dog es []\n",
            "El holónimo parte de dog es []\n",
            "El holónimo miembro de dog es [Synset('canis.n.01'), Synset('pack.n.06')]\n",
            "El holónimo sustancia de dog es []\n"
          ],
          "name": "stdout"
        }
      ]
    },
    {
      "cell_type": "markdown",
      "metadata": {
        "id": "WGeJWy34BHjz"
      },
      "source": [
        "6. **Write a program to find all words that occur at least three times in the Brown Corpus**"
      ]
    },
    {
      "cell_type": "code",
      "metadata": {
        "id": "I4XphISsBTYE"
      },
      "source": [
        "bcorpus = nltk.corpus.brown.words() # selecciona todos los textos del corpora brown\n",
        "counting = FreqDist(bcorpus) # obtiene la frecuencia de las palabras\n",
        "counting = dict((k, v) for k, v # formate las variables del diccionario como k y v\n",
        "                in counting.items() # identifica los elementos del dict\n",
        "                if v > 3) # ingresa k si el valor v es mayor a 3"
      ],
      "execution_count": 189,
      "outputs": []
    },
    {
      "cell_type": "markdown",
      "metadata": {
        "id": "Qv2BkJE1IHiT"
      },
      "source": [
        "7. **Write a program to generate a table of lexical diversity scores (i.e., token/type ratios), as we saw in Table 1-1. Include the full set of Brown Corpus genres (nltk.corpus.brown.categories()). Which genre has the lowest diversity (greatest number of tokens per type)? Is this what you would have expected?**\n",
        "\n",
        "El humor tiene una menor diversidad léxica, con un puntaje de $4.3$. Supongo que es esperable, en tanto el humor se debería suscribir a campos específicos para generar su efecto."
      ]
    },
    {
      "cell_type": "code",
      "metadata": {
        "colab": {
          "base_uri": "https://localhost:8080/"
        },
        "id": "oBQ3EYyTIOhc",
        "outputId": "bd1a6578-d8df-472a-c8c7-df26c07472ed"
      },
      "source": [
        "def diversidad(text):\n",
        "  return len(text)/len(set(text))\n",
        "\n",
        "categoria_brown = nltk.corpus.brown.categories()\n",
        "print(\"categorias\",\"tokens\", \"types\", \"diversidad\")\n",
        "for categorias in categoria_brown:\n",
        "  categoria_palabras = nltk.corpus.brown.words(categories = categorias)\n",
        "  print(categorias, len(categoria_palabras), len(set(categoria_palabras)), round(diversidad(categoria_palabras), 1))"
      ],
      "execution_count": 190,
      "outputs": [
        {
          "output_type": "stream",
          "text": [
            "categorias tokens types diversidad\n",
            "adventure 69342 8874 7.8\n",
            "belles_lettres 173096 18421 9.4\n",
            "editorial 61604 9890 6.2\n",
            "fiction 68488 9302 7.4\n",
            "government 70117 8181 8.6\n",
            "hobbies 82345 11935 6.9\n",
            "humor 21695 5017 4.3\n",
            "learned 181888 16859 10.8\n",
            "lore 110299 14503 7.6\n",
            "mystery 57169 6982 8.2\n",
            "news 100554 14394 7.0\n",
            "religion 39399 6373 6.2\n",
            "reviews 40704 8626 4.7\n",
            "romance 70022 8452 8.3\n",
            "science_fiction 14470 3233 4.5\n"
          ],
          "name": "stdout"
        }
      ]
    },
    {
      "cell_type": "markdown",
      "metadata": {
        "id": "APfsrnv9VH6w"
      },
      "source": [
        "8. Define a conditional frequency distribution over the Names Corpus that allows you to see which initial letters are more frequent for males versus females (see Figure 2-7)."
      ]
    },
    {
      "cell_type": "code",
      "metadata": {
        "colab": {
          "base_uri": "https://localhost:8080/",
          "height": 280
        },
        "id": "UtRcDPq6VPnN",
        "outputId": "ec3b7e59-ec37-485f-a9a1-4f1f2b3c6533"
      },
      "source": [
        "names = nltk.corpus.names\n",
        "gender_names = [(fileid, name[0])\n",
        "       for fileid in names.fileids()\n",
        "       for name in names.words(fileid)]\n",
        "cfd = nltk.ConditionalFreqDist(gender_names)\n",
        "cfd.plot()"
      ],
      "execution_count": 191,
      "outputs": [
        {
          "output_type": "display_data",
          "data": {
            "image/png": "[encoded data removed]",
            "text/plain": [
              "<Figure size 432x288 with 1 Axes>"
            ]
          },
          "metadata": {
            "tags": [],
            "needs_background": "light"
          }
        }
      ]
    },
    {
      "cell_type": "markdown",
      "metadata": {
        "id": "zg3jZLOuWw_B"
      },
      "source": [
        "9. **Write a function that finds the 50 most frequently occurring words of a text that are not stopwords**"
      ]
    },
    {
      "cell_type": "code",
      "metadata": {
        "colab": {
          "base_uri": "https://localhost:8080/"
        },
        "id": "Wj96LOCzWwLj",
        "outputId": "79c08912-0908-4dd1-cb6d-b37cd29f77e2"
      },
      "source": [
        "from nltk.corpus import stopwords\n",
        "stop = nltk.corpus.stopwords.words('english')\n",
        "\n",
        "def more_50_frequent(text):\n",
        "  conteo = [w for w in text if w.lower() not in stop and w.isalpha()]\n",
        "  conteo_final = FreqDist(conteo).most_common(50)\n",
        "  return conteo_final\n",
        "\n",
        "more_50_frequent(nltk.corpus.gutenberg.words('austen-persuasion.txt'))"
      ],
      "execution_count": 192,
      "outputs": [
        {
          "output_type": "execute_result",
          "data": {
            "text/plain": [
              "[('Anne', 497),\n",
              " ('could', 444),\n",
              " ('would', 351),\n",
              " ('Captain', 297),\n",
              " ('Mrs', 291),\n",
              " ('Elliot', 288),\n",
              " ('Mr', 256),\n",
              " ('must', 228),\n",
              " ('one', 221),\n",
              " ('Wentworth', 218),\n",
              " ('much', 205),\n",
              " ('Lady', 191),\n",
              " ('good', 181),\n",
              " ('little', 175),\n",
              " ('said', 173),\n",
              " ('Charles', 166),\n",
              " ('might', 166),\n",
              " ('never', 153),\n",
              " ('time', 151),\n",
              " ('think', 149),\n",
              " ('Russell', 148),\n",
              " ('Sir', 144),\n",
              " ('Walter', 141),\n",
              " ('well', 141),\n",
              " ('Mary', 138),\n",
              " ('man', 133),\n",
              " ('nothing', 131),\n",
              " ('Musgrove', 130),\n",
              " ('know', 127),\n",
              " ('Miss', 123),\n",
              " ('see', 123),\n",
              " ('soon', 121),\n",
              " ('father', 117),\n",
              " ('great', 116),\n",
              " ('first', 112),\n",
              " ('two', 112),\n",
              " ('Louisa', 111),\n",
              " ('quite', 110),\n",
              " ('always', 109),\n",
              " ('though', 107),\n",
              " ('without', 106),\n",
              " ('Bath', 99),\n",
              " ('every', 96),\n",
              " ('made', 96),\n",
              " ('long', 95),\n",
              " ('say', 93),\n",
              " ('seemed', 93),\n",
              " ('thought', 90),\n",
              " ('Elizabeth', 89),\n",
              " ('last', 88)]"
            ]
          },
          "metadata": {
            "tags": []
          },
          "execution_count": 192
        }
      ]
    },
    {
      "cell_type": "markdown",
      "metadata": {
        "id": "cPp7fcV9gYv_"
      },
      "source": [
        "10. **Write a program to print the 50 most frequent bigrams (pairs of adjacent words) of a text, omitting bigrams that contain stopwords.**"
      ]
    },
    {
      "cell_type": "code",
      "metadata": {
        "colab": {
          "base_uri": "https://localhost:8080/"
        },
        "id": "78rb-8xYgfOB",
        "outputId": "31adab7f-f72a-4186-d558-86e50e4db831"
      },
      "source": [
        "from nltk.corpus import stopwords\n",
        "stop = nltk.corpus.stopwords.words('english')\n",
        "\n",
        "def bigram_50_most(text):\n",
        "  input = [t for t in text if t.lower() not in stop and t.isalpha()]\n",
        "  bigram = nltk.bigrams(input)\n",
        "  cfd = nltk.FreqDist(bigram).most_common(50) # obtiene distribucion condional de los bigramas\n",
        "  return cfd\n",
        "\n",
        "bigram_50_most(nltk.corpus.gutenberg.words('austen-persuasion.txt'))"
      ],
      "execution_count": 193,
      "outputs": [
        {
          "output_type": "execute_result",
          "data": {
            "text/plain": [
              "[(('Captain', 'Wentworth'), 196),\n",
              " (('Mr', 'Elliot'), 174),\n",
              " (('Lady', 'Russell'), 147),\n",
              " (('Sir', 'Walter'), 131),\n",
              " (('Mrs', 'Clay'), 66),\n",
              " (('Mrs', 'Musgrove'), 66),\n",
              " (('Mrs', 'Smith'), 64),\n",
              " (('Captain', 'Benwick'), 56),\n",
              " (('Miss', 'Elliot'), 48),\n",
              " (('Mrs', 'Croft'), 41),\n",
              " (('Captain', 'Harville'), 37),\n",
              " (('Anne', 'could'), 35),\n",
              " (('great', 'deal'), 34),\n",
              " (('Charles', 'Hayter'), 33),\n",
              " (('Camden', 'Place'), 29),\n",
              " (('Mr', 'Shepherd'), 26),\n",
              " (('Lady', 'Dalrymple'), 25),\n",
              " (('Kellynch', 'Hall'), 24),\n",
              " (('Mrs', 'Harville'), 24),\n",
              " (('Anne', 'Elliot'), 23),\n",
              " (('Colonel', 'Wallis'), 23),\n",
              " (('young', 'man'), 22),\n",
              " (('Miss', 'Musgroves'), 22),\n",
              " (('Mr', 'Musgrove'), 21),\n",
              " (('Miss', 'Anne'), 19),\n",
              " (('said', 'Anne'), 18),\n",
              " (('Mr', 'Mrs'), 17),\n",
              " (('Walter', 'Elliot'), 16),\n",
              " (('father', 'sister'), 15),\n",
              " (('Louisa', 'Musgrove'), 15),\n",
              " (('Charles', 'Musgrove'), 14),\n",
              " (('Admiral', 'Croft'), 14),\n",
              " (('Great', 'House'), 13),\n",
              " (('father', 'mother'), 13),\n",
              " (('Lady', 'Elliot'), 12),\n",
              " (('Miss', 'Carteret'), 12),\n",
              " (('time', 'life'), 11),\n",
              " (('could', 'never'), 11),\n",
              " (('Walter', 'Elizabeth'), 11),\n",
              " (('said', 'Mrs'), 11),\n",
              " (('replied', 'Anne'), 11),\n",
              " (('many', 'years'), 11),\n",
              " (('Mrs', 'Wallis'), 11),\n",
              " (('could', 'think'), 10),\n",
              " (('Mrs', 'Charles'), 10),\n",
              " (('Anne', 'would'), 10),\n",
              " (('good', 'humour'), 10),\n",
              " (('half', 'hour'), 10),\n",
              " (('young', 'people'), 10),\n",
              " (('dare', 'say'), 10)]"
            ]
          },
          "metadata": {
            "tags": []
          },
          "execution_count": 193
        }
      ]
    },
    {
      "cell_type": "markdown",
      "metadata": {
        "id": "Nwqm-znZifXn"
      },
      "source": [
        "11. **Write a program to create a table of word frequencies by genre, like the one given in Section 2.1 for modals. Choose your own words and try to find words whose presence (or absence) is typical of a genre. Discuss your findings.**"
      ]
    },
    {
      "cell_type": "code",
      "metadata": {
        "colab": {
          "base_uri": "https://localhost:8080/"
        },
        "id": "jWG7uScoFfpd",
        "outputId": "249fe45c-396d-47c8-e227-a4503cc9deba"
      },
      "source": [
        "categoria_brown = nltk.corpus.brown.categories()\n",
        "from nltk.corpus import brown\n",
        "\n",
        "entradas = ['show', 'indicate', 'tell', 'say']\n",
        "cfd = nltk.ConditionalFreqDist( \n",
        "    (genre, word)\n",
        "    for genre in nltk.corpus.brown.categories()\n",
        "    for word in brown.words(categories=genre))\n",
        "\n",
        "cfd.tabulate(conditions = nltk.corpus.brown.categories(), samples = entradas)"
      ],
      "execution_count": 194,
      "outputs": [
        {
          "output_type": "stream",
          "text": [
            "                    show indicate     tell      say \n",
            "      adventure       15        3       29       34 \n",
            " belles_lettres       30        8       22       87 \n",
            "      editorial       17        3       10       23 \n",
            "        fiction       10        0       32       36 \n",
            "     government        8       10        3        9 \n",
            "        hobbies       27        8        7        9 \n",
            "          humor        5        0        9       18 \n",
            "        learned       55       29       10       61 \n",
            "           lore       19        9       20       30 \n",
            "        mystery       13        3       37       46 \n",
            "           news       31        3       14       23 \n",
            "       religion        5        2        3       39 \n",
            "        reviews       23        1        4       17 \n",
            "        romance        9        0       37       60 \n",
            "science_fiction        4        1        8        3 \n"
          ],
          "name": "stdout"
        }
      ]
    },
    {
      "cell_type": "markdown",
      "metadata": {
        "id": "MHvpiR9EopFC"
      },
      "source": [
        "12. **Write a function `word_freq()` that takes a word and the name of a section of the Brown Corpus as arguments, and computes the frequency of the word in that section of the corpus**"
      ]
    },
    {
      "cell_type": "code",
      "metadata": {
        "colab": {
          "base_uri": "https://localhost:8080/"
        },
        "id": "P3K2RkzWBU1D",
        "outputId": "ed0406cc-486c-447b-82a0-4484a1e6d9d2"
      },
      "source": [
        "def word_freq(section, word):\n",
        "  seccion = nltk.corpus.brown.words(categories = section)\n",
        "  if word in seccion:\n",
        "    conteo = FreqDist(seccion)\n",
        "    return print(\"La palabra\", word, \"tiene una frecuencia de \", conteo[word], \"en la seccion\", section)\n",
        "  else:\n",
        "    return print(\"La palabra\", word, \"no posee frecuencias en la seccion\", section)\n",
        "\n",
        "word_freq('adventure', 'dream')\n",
        "word_freq('adventure', 'Morgan')"
      ],
      "execution_count": 195,
      "outputs": [
        {
          "output_type": "stream",
          "text": [
            "La palabra dream tiene una frecuencia de  8 en la seccion adventure\n",
            "La palabra Morgan tiene una frecuencia de  28 en la seccion adventure\n"
          ],
          "name": "stdout"
        }
      ]
    },
    {
      "cell_type": "markdown",
      "metadata": {
        "id": "i_unyCkKIf4l"
      },
      "source": [
        "13. **Define a function hedge(text) that processes a text and produces a new version with the word 'like' between every third word.**\n",
        "\n"
      ]
    },
    {
      "cell_type": "code",
      "metadata": {
        "colab": {
          "base_uri": "https://localhost:8080/"
        },
        "id": "EcaQrhx-NHoO",
        "outputId": "faab80aa-8b0b-4906-be32-497b69900d16"
      },
      "source": [
        "def hedge(text):\n",
        "    # test = 'this is a test sentence to insert like after every third word'.split()\n",
        "    ids = [index-1 for index in list(range(4,len(text)+1,4))]\n",
        "    for id in ids:\n",
        "        text.insert(id,'like') # insert es el método para insertar un string en una cadena de texto\n",
        "    return text\n",
        "\n",
        "test_text=hedge('this is a test sentence to insert a word after every third word'.split())\n",
        "print(test_text)"
      ],
      "execution_count": 196,
      "outputs": [
        {
          "output_type": "stream",
          "text": [
            "['this', 'is', 'a', 'like', 'test', 'sentence', 'to', 'like', 'insert', 'a', 'word', 'like', 'after', 'every', 'third', 'word']\n"
          ],
          "name": "stdout"
        }
      ]
    },
    {
      "cell_type": "markdown",
      "metadata": {
        "id": "_Z3NdkYxPayB"
      },
      "source": [
        "14. **Write a function to process a large text and plot word frequency against word rank using pylab.plot. Do you confirm Zipf’s law? (Hint: it helps to use a logarithmic scale.) What is going on at the extreme ends of the plotted line?**"
      ]
    },
    {
      "cell_type": "code",
      "metadata": {
        "colab": {
          "base_uri": "https://localhost:8080/",
          "height": 299
        },
        "id": "fQcY8FWURKXX",
        "outputId": "7b4da5a7-95b8-4ebd-9cfe-61bf1a612a5e"
      },
      "source": [
        "def zipf_law(text, n):\n",
        "  texto = [w for w in text if w.isalpha()]\n",
        "  conteo = FreqDist(texto)\n",
        "  return conteo.plot(n)\n",
        "\n",
        "all = nltk.corpus.gutenberg.words() + nltk.corpus.brown.words() + nltk.corpus.reuters.words()\n",
        "zipf_law(all, 50)"
      ],
      "execution_count": 197,
      "outputs": [
        {
          "output_type": "display_data",
          "data": {
            "image/png": "[encoded data removed]",
            "text/plain": [
              "<Figure size 432x288 with 1 Axes>"
            ]
          },
          "metadata": {
            "tags": [],
            "needs_background": "light"
          }
        }
      ]
    },
    {
      "cell_type": "markdown",
      "metadata": {
        "id": "Wqw9om-TUYDh"
      },
      "source": [
        "# Procesar texto en bruto"
      ]
    },
    {
      "cell_type": "markdown",
      "metadata": {
        "id": "PzSVzRxGUb_j"
      },
      "source": [
        "The goal of this chapter is to answer the following questions:\n",
        "1. How can we write programs to access text from local files and from the Web, in order to get hold of an unlimited range of language material?\n",
        "2. How can we split documents up into individual words and punctuation symbols, so we can carry out the same kinds of analysis we did with text corpora in earlier chapters?\n",
        "3. How can we write programs to produce formatted output and save it in a file?"
      ]
    },
    {
      "cell_type": "code",
      "metadata": {
        "id": "8xss9XhCUvL_"
      },
      "source": [
        "from __future__ import division\n",
        "import nltk, re, pprint"
      ],
      "execution_count": 198,
      "outputs": []
    },
    {
      "cell_type": "markdown",
      "metadata": {
        "id": "DEOBm4zBP7JQ"
      },
      "source": [
        "## Expresiones regulares\n",
        "\n",
        "Las expresiones regulares son metacaracteres que nos permiten realizar una abstracciones de los carácteres en un `string` y así seleccionar extractos de los textos.\n",
        "\n",
        "Para esto, la librería `re` es utilizada para esto. "
      ]
    },
    {
      "cell_type": "code",
      "metadata": {
        "colab": {
          "base_uri": "https://localhost:8080/"
        },
        "id": "JhHUpBaaNCXY",
        "outputId": "550bf2bd-12ed-4dc4-f035-85156b370a6a"
      },
      "source": [
        "import re\n",
        "\n",
        "wordlist = nltk.corpus.words.words() # obtiene las palabras del corpus\n",
        "[w for w in wordlist if re.search('^[g-o]+$', w)] # busca palabras que posean las letras entre g y o."
      ],
      "execution_count": 199,
      "outputs": [
        {
          "output_type": "execute_result",
          "data": {
            "text/plain": [
              "['g',\n",
              " 'ghoom',\n",
              " 'gig',\n",
              " 'giggling',\n",
              " 'gigolo',\n",
              " 'gilim',\n",
              " 'gill',\n",
              " 'gilling',\n",
              " 'gilo',\n",
              " 'gim',\n",
              " 'gin',\n",
              " 'ging',\n",
              " 'gingili',\n",
              " 'gink',\n",
              " 'ginkgo',\n",
              " 'ginning',\n",
              " 'gio',\n",
              " 'glink',\n",
              " 'glom',\n",
              " 'glonoin',\n",
              " 'gloom',\n",
              " 'glooming',\n",
              " 'gnomon',\n",
              " 'go',\n",
              " 'gog',\n",
              " 'gogo',\n",
              " 'goi',\n",
              " 'going',\n",
              " 'gol',\n",
              " 'goli',\n",
              " 'gon',\n",
              " 'gong',\n",
              " 'gonion',\n",
              " 'goo',\n",
              " 'googol',\n",
              " 'gook',\n",
              " 'gool',\n",
              " 'goon',\n",
              " 'h',\n",
              " 'hi',\n",
              " 'high',\n",
              " 'hill',\n",
              " 'him',\n",
              " 'hin',\n",
              " 'hing',\n",
              " 'hinoki',\n",
              " 'ho',\n",
              " 'hog',\n",
              " 'hoggin',\n",
              " 'hogling',\n",
              " 'hoi',\n",
              " 'hoin',\n",
              " 'holing',\n",
              " 'holl',\n",
              " 'hollin',\n",
              " 'hollo',\n",
              " 'hollong',\n",
              " 'holm',\n",
              " 'homo',\n",
              " 'homologon',\n",
              " 'hong',\n",
              " 'honk',\n",
              " 'hook',\n",
              " 'hoon',\n",
              " 'i',\n",
              " 'igloo',\n",
              " 'ihi',\n",
              " 'ilk',\n",
              " 'ill',\n",
              " 'imi',\n",
              " 'imino',\n",
              " 'immi',\n",
              " 'in',\n",
              " 'ing',\n",
              " 'ingoing',\n",
              " 'inion',\n",
              " 'ink',\n",
              " 'inkling',\n",
              " 'inlook',\n",
              " 'inn',\n",
              " 'inning',\n",
              " 'io',\n",
              " 'ion',\n",
              " 'j',\n",
              " 'jhool',\n",
              " 'jig',\n",
              " 'jing',\n",
              " 'jingling',\n",
              " 'jingo',\n",
              " 'jinjili',\n",
              " 'jink',\n",
              " 'jinn',\n",
              " 'jinni',\n",
              " 'jo',\n",
              " 'jog',\n",
              " 'johnin',\n",
              " 'join',\n",
              " 'joining',\n",
              " 'joll',\n",
              " 'joom',\n",
              " 'k',\n",
              " 'kiki',\n",
              " 'kil',\n",
              " 'kilhig',\n",
              " 'kilim',\n",
              " 'kill',\n",
              " 'killing',\n",
              " 'kiln',\n",
              " 'kilo',\n",
              " 'kim',\n",
              " 'kimono',\n",
              " 'kin',\n",
              " 'king',\n",
              " 'kingling',\n",
              " 'kink',\n",
              " 'kino',\n",
              " 'klom',\n",
              " 'knoll',\n",
              " 'ko',\n",
              " 'kohl',\n",
              " 'koi',\n",
              " 'koil',\n",
              " 'koilon',\n",
              " 'koinon',\n",
              " 'kokil',\n",
              " 'kokio',\n",
              " 'koko',\n",
              " 'kokoon',\n",
              " 'kolo',\n",
              " 'kolokolo',\n",
              " 'kon',\n",
              " 'kongoni',\n",
              " 'konini',\n",
              " 'l',\n",
              " 'li',\n",
              " 'lignin',\n",
              " 'liin',\n",
              " 'likin',\n",
              " 'liking',\n",
              " 'liknon',\n",
              " 'lill',\n",
              " 'lim',\n",
              " 'liming',\n",
              " 'limn',\n",
              " 'limonin',\n",
              " 'lin',\n",
              " 'ling',\n",
              " 'lingo',\n",
              " 'linin',\n",
              " 'lining',\n",
              " 'link',\n",
              " 'linking',\n",
              " 'linn',\n",
              " 'lino',\n",
              " 'linolin',\n",
              " 'linon',\n",
              " 'lion',\n",
              " 'lo',\n",
              " 'log',\n",
              " 'loggin',\n",
              " 'logging',\n",
              " 'login',\n",
              " 'logion',\n",
              " 'logoi',\n",
              " 'loin',\n",
              " 'loll',\n",
              " 'long',\n",
              " 'longing',\n",
              " 'loo',\n",
              " 'look',\n",
              " 'looking',\n",
              " 'loom',\n",
              " 'looming',\n",
              " 'loon',\n",
              " 'm',\n",
              " 'mho',\n",
              " 'mi',\n",
              " 'mig',\n",
              " 'miglio',\n",
              " 'mignon',\n",
              " 'mijl',\n",
              " 'mil',\n",
              " 'milk',\n",
              " 'milking',\n",
              " 'mill',\n",
              " 'milling',\n",
              " 'million',\n",
              " 'milo',\n",
              " 'mim',\n",
              " 'min',\n",
              " 'ming',\n",
              " 'minikin',\n",
              " 'minim',\n",
              " 'mining',\n",
              " 'minion',\n",
              " 'mink',\n",
              " 'minning',\n",
              " 'mino',\n",
              " 'mo',\n",
              " 'mog',\n",
              " 'mogo',\n",
              " 'moho',\n",
              " 'moil',\n",
              " 'moiling',\n",
              " 'moio',\n",
              " 'mojo',\n",
              " 'moki',\n",
              " 'moko',\n",
              " 'momo',\n",
              " 'mon',\n",
              " 'mong',\n",
              " 'monk',\n",
              " 'mono',\n",
              " 'moo',\n",
              " 'mooing',\n",
              " 'mool',\n",
              " 'moon',\n",
              " 'mooning',\n",
              " 'n',\n",
              " 'ni',\n",
              " 'nig',\n",
              " 'niggling',\n",
              " 'nigh',\n",
              " 'nil',\n",
              " 'nim',\n",
              " 'ninon',\n",
              " 'niog',\n",
              " 'no',\n",
              " 'nog',\n",
              " 'noggin',\n",
              " 'nogging',\n",
              " 'noil',\n",
              " 'noll',\n",
              " 'nolo',\n",
              " 'non',\n",
              " 'nonillion',\n",
              " 'nonion',\n",
              " 'nook',\n",
              " 'nooking',\n",
              " 'noon',\n",
              " 'nooning',\n",
              " 'o',\n",
              " 'oh',\n",
              " 'ohm',\n",
              " 'oho',\n",
              " 'oii',\n",
              " 'oil',\n",
              " 'oki',\n",
              " 'olio',\n",
              " 'olm',\n",
              " 'om',\n",
              " 'on',\n",
              " 'ongoing',\n",
              " 'onion',\n",
              " 'onlook',\n",
              " 'onlooking',\n",
              " 'oolong',\n",
              " 'go',\n",
              " 'high',\n",
              " 'hook',\n",
              " 'ill',\n",
              " 'in',\n",
              " 'ink',\n",
              " 'join',\n",
              " 'long',\n",
              " 'look',\n",
              " 'milk',\n",
              " 'moon',\n",
              " 'no',\n",
              " 'oil',\n",
              " 'on']"
            ]
          },
          "metadata": {
            "tags": []
          },
          "execution_count": 199
        }
      ]
    },
    {
      "cell_type": "markdown",
      "metadata": {
        "id": "CjKhvWcLQflJ"
      },
      "source": [
        "Así, también podemos seleccionar grupos específicos, como vocales y consonantes. Por ejemplo, el segmento `[aeiou]` selecciona solo vocales, mientras que el uso de `^` dentro de `[]` (i.e. `[^aeiou]`) indica \"buscar cualquier carácter que no esté en este grupo:"
      ]
    },
    {
      "cell_type": "code",
      "metadata": {
        "colab": {
          "base_uri": "https://localhost:8080/"
        },
        "id": "Yt7ia-VdPBsh",
        "outputId": "2de97555-f231-4d0a-d587-57936892ffdc"
      },
      "source": [
        "word = 'supercalifragilisticexpialidocious'\n",
        "\n",
        "print(\"Esta palabra posee\", len(re.findall(r'[aeiou]', word)), \"vocales\") # match vocales\n",
        "print(\"Esta palabra posee\", len(re.findall(r'[^aeiou]', word)), \"consonantes\") # match no vocales (^)\n",
        "print(\"Esta palabra posee un total de \", len(word),\"carácteres\")"
      ],
      "execution_count": 200,
      "outputs": [
        {
          "output_type": "stream",
          "text": [
            "Esta palabra posee 16 vocales\n",
            "Esta palabra posee 18 consonantes\n",
            "Esta palabra posee un total de  34 carácteres\n"
          ],
          "name": "stdout"
        }
      ]
    },
    {
      "cell_type": "markdown",
      "metadata": {
        "id": "Vfmzccr7Rp5p"
      },
      "source": [
        "**Your Turn: In the W3C Date Time Format, dates are represented like this: 2009-12-31. Replace the ? in the following Python code with a regular expression, in order to convert the string '2009-12-31' to a list of integers [2009, 12, 31]:**"
      ]
    },
    {
      "cell_type": "code",
      "metadata": {
        "colab": {
          "base_uri": "https://localhost:8080/"
        },
        "id": "p6DJjvZwRpU9",
        "outputId": "aef922cc-ac98-4d27-c87d-a5307279f771"
      },
      "source": [
        "[int(n) for n in re.findall('[0-9]{2,}', '2009-12-31')] # .findall devuelve las coincidencias como valores"
      ],
      "execution_count": 201,
      "outputs": [
        {
          "output_type": "execute_result",
          "data": {
            "text/plain": [
              "[2009, 12, 31]"
            ]
          },
          "metadata": {
            "tags": []
          },
          "execution_count": 201
        }
      ]
    },
    {
      "cell_type": "code",
      "metadata": {
        "colab": {
          "base_uri": "https://localhost:8080/"
        },
        "id": "DSonXVKDb48_",
        "outputId": "88c6e877-84c3-43b1-be92-b7828151c08f"
      },
      "source": [
        "rotokas_words = nltk.corpus.toolbox.words('rotokas.dic')\n",
        "cvs = [cv # sea cv\n",
        "       for w in rotokas_words  # para cada palabra en totokas\n",
        "       for cv in re.findall(r'[ptksnv][aeiou]', w)] # encuentra la combinación de [1] y [2] para cada w\n",
        "cfd = nltk.ConditionalFreqDist(cvs)\n",
        "cfd.tabulate()"
      ],
      "execution_count": 202,
      "outputs": [
        {
          "output_type": "stream",
          "text": [
            "    a   e   i   o   u \n",
            "k 418 148  94 420 173 \n",
            "p  83  31 105  34  51 \n",
            "s   0   0 100   2   1 \n",
            "t  47   8   0 148  37 \n",
            "v  93  27 105  48  49 \n"
          ],
          "name": "stdout"
        }
      ]
    },
    {
      "cell_type": "markdown",
      "metadata": {
        "id": "LCp8V0JQd_m3"
      },
      "source": [
        "A partir de un conteo condicional, podemos crear además un index con todas las palabras que concuerden con la conbinación `'[ptksvr][aeiou]'` en `w`. "
      ]
    },
    {
      "cell_type": "code",
      "metadata": {
        "colab": {
          "base_uri": "https://localhost:8080/"
        },
        "id": "y4hJ_ch-cqvC",
        "outputId": "dedb33b5-2e03-4031-dfea-ed1560a28645"
      },
      "source": [
        "cv_word_pairs = [(cv, w) # sea cv  y w\n",
        "for w in rotokas_words # para cada w in rotokas\n",
        "for cv in re.findall(r'[ptksvr][aeiou]', w)] # encuentra la combinación de [1] y [2] en w\n",
        "\n",
        "cv_index = nltk.Index(cv_word_pairs) # indexa las palabras w según cv\n",
        "cv_index['su'] # encuentra palabras que posean la sílaba su según su index"
      ],
      "execution_count": 203,
      "outputs": [
        {
          "output_type": "execute_result",
          "data": {
            "text/plain": [
              "['kasuari']"
            ]
          },
          "metadata": {
            "tags": []
          },
          "execution_count": 203
        }
      ]
    },
    {
      "cell_type": "markdown",
      "metadata": {
        "id": "TZV5AXlmkM0R"
      },
      "source": [
        "**Your Turn: Consolidate your understanding of regular expression patterns and substitutions using nltk.re_show(p, s), which annotates the string s to show every place where pattern p was matched, and nltk.app.nemo(), which provides a graphical interface for exploring regular expressions. For more practice, try some of the exercises on regular expressions at the end of this chapter.**"
      ]
    },
    {
      "cell_type": "code",
      "metadata": {
        "colab": {
          "base_uri": "https://localhost:8080/"
        },
        "id": "s_QbKg4ZkN3D",
        "outputId": "d729890f-5123-4292-b62e-57e7faca7a4a"
      },
      "source": [
        "who = \"Consolidate your understanding of regular expression patterns and substitutions using nltk.re_show(p, s)\"\n",
        "nltk.re_show('[aeiou]+', who)"
      ],
      "execution_count": 204,
      "outputs": [
        {
          "output_type": "stream",
          "text": [
            "C{o}ns{o}l{i}d{a}t{e} y{ou}r {u}nd{e}rst{a}nd{i}ng {o}f r{e}g{u}l{a}r {e}xpr{e}ss{io}n p{a}tt{e}rns {a}nd s{u}bst{i}t{u}t{io}ns {u}s{i}ng nltk.r{e}_sh{o}w(p, s)\n"
          ],
          "name": "stdout"
        }
      ]
    },
    {
      "cell_type": "markdown",
      "metadata": {
        "id": "iMMIgoRfoSZv"
      },
      "source": [
        "**Your Turn: Look for instances of the pattern as x as y to discover information about entities and their properties**"
      ]
    },
    {
      "cell_type": "code",
      "metadata": {
        "colab": {
          "base_uri": "https://localhost:8080/"
        },
        "id": "ofoAYNC7oM7S",
        "outputId": "da2324d1-1e49-4f56-a35e-260c1604e91e"
      },
      "source": [
        "from nltk.corpus import brown\n",
        "hobbies_learned = nltk.Text(brown.words(categories=['hobbies', 'learned']))\n",
        "hobbies_learned.findall(r\"<as> <\\w*> <as> <\\w*s>\")"
      ],
      "execution_count": 205,
      "outputs": [
        {
          "output_type": "stream",
          "text": [
            "as coppery as Delawares; as well as injuries; as much as was; as well\n",
            "as personalities; as much as glass; as importantly as his\n"
          ],
          "name": "stdout"
        }
      ]
    },
    {
      "cell_type": "markdown",
      "metadata": {
        "id": "0F3_dA34o12V"
      },
      "source": [
        "## Stemmers"
      ]
    },
    {
      "cell_type": "markdown",
      "metadata": {
        "id": "Vu7d6eiAo4SX"
      },
      "source": [
        "Si bien las raices pueden ser recuperadas y almacenadas a través de expresiones regulares que eliminen los afijos de una palabra, el paquete `nltk` posee un *stemmer* que puede hacer este trabajo. Con esta función, las palabras flexionadas o derivadas son reemplazadas por su lexema. Por ejemplo, en el texto `raw` siguiente, el item 'lying' se reemplaza por 'lie'. "
      ]
    },
    {
      "cell_type": "code",
      "metadata": {
        "colab": {
          "base_uri": "https://localhost:8080/"
        },
        "id": "T5ApSxgGpRWW",
        "outputId": "7dfb480c-a765-4092-87d3-0459f1eab06b"
      },
      "source": [
        "raw = \"\"\"DENNIS: Listen, strange women lying in ponds distributing swords\n",
        "is no basis for a system of government. Supreme executive power derives from  \n",
        "a mandate from the masses, not from some farcical aquatic ceremony.\"\"\"\n",
        "\n",
        "tokens = nltk.word_tokenize(raw)\n",
        "porter = nltk.PorterStemmer()\n",
        "lancaster = nltk.LancasterStemmer()\n",
        "[porter.stem(t) for t in tokens]"
      ],
      "execution_count": 206,
      "outputs": [
        {
          "output_type": "execute_result",
          "data": {
            "text/plain": [
              "['denni',\n",
              " ':',\n",
              " 'listen',\n",
              " ',',\n",
              " 'strang',\n",
              " 'women',\n",
              " 'lie',\n",
              " 'in',\n",
              " 'pond',\n",
              " 'distribut',\n",
              " 'sword',\n",
              " 'is',\n",
              " 'no',\n",
              " 'basi',\n",
              " 'for',\n",
              " 'a',\n",
              " 'system',\n",
              " 'of',\n",
              " 'govern',\n",
              " '.',\n",
              " 'suprem',\n",
              " 'execut',\n",
              " 'power',\n",
              " 'deriv',\n",
              " 'from',\n",
              " 'a',\n",
              " 'mandat',\n",
              " 'from',\n",
              " 'the',\n",
              " 'mass',\n",
              " ',',\n",
              " 'not',\n",
              " 'from',\n",
              " 'some',\n",
              " 'farcic',\n",
              " 'aquat',\n",
              " 'ceremoni',\n",
              " '.']"
            ]
          },
          "metadata": {
            "tags": []
          },
          "execution_count": 206
        }
      ]
    },
    {
      "cell_type": "markdown",
      "metadata": {
        "id": "9272Qyjypv4Q"
      },
      "source": [
        "No obstante, dada irregularidad natural del lenguaje, los diferentes stemmer disponibles suelen realizar errores en diferentes aspectos. En este sentido, lo importante está en utilizar el stemmer adecuado para la tarea adecuada. Así, los stemmers son una buena opción cuando se busca soportar la búsqueda de formas alternativas de las palabras ingresadas."
      ]
    },
    {
      "cell_type": "markdown",
      "metadata": {
        "id": "rZr6p40IrN2U"
      },
      "source": [
        "## Lematización\n",
        "\n",
        "Mientras los stemmers son bastante \"brutos\", la lematización se apoya en diccionarios predefinidos. Dado esto, el proceso es mucho más lento, pero útil cuando se busca consolidar el vocabulario de textos y validarlo por medio del diccionario.  "
      ]
    },
    {
      "cell_type": "code",
      "metadata": {
        "colab": {
          "base_uri": "https://localhost:8080/"
        },
        "id": "nZClsTVg69bK",
        "outputId": "b1dbd0b1-1654-4bcc-e5eb-79a4b20cf65b"
      },
      "source": [
        "wnl = nltk.WordNetLemmatizer()\n",
        "[wnl.lemmatize(t) for t in tokens]"
      ],
      "execution_count": 207,
      "outputs": [
        {
          "output_type": "execute_result",
          "data": {
            "text/plain": [
              "['DENNIS',\n",
              " ':',\n",
              " 'Listen',\n",
              " ',',\n",
              " 'strange',\n",
              " 'woman',\n",
              " 'lying',\n",
              " 'in',\n",
              " 'pond',\n",
              " 'distributing',\n",
              " 'sword',\n",
              " 'is',\n",
              " 'no',\n",
              " 'basis',\n",
              " 'for',\n",
              " 'a',\n",
              " 'system',\n",
              " 'of',\n",
              " 'government',\n",
              " '.',\n",
              " 'Supreme',\n",
              " 'executive',\n",
              " 'power',\n",
              " 'derives',\n",
              " 'from',\n",
              " 'a',\n",
              " 'mandate',\n",
              " 'from',\n",
              " 'the',\n",
              " 'mass',\n",
              " ',',\n",
              " 'not',\n",
              " 'from',\n",
              " 'some',\n",
              " 'farcical',\n",
              " 'aquatic',\n",
              " 'ceremony',\n",
              " '.']"
            ]
          },
          "metadata": {
            "tags": []
          },
          "execution_count": 207
        }
      ]
    },
    {
      "cell_type": "markdown",
      "metadata": {
        "id": "GXtYqiGa9wLd"
      },
      "source": [
        "## Tokenización\n",
        "\n",
        "La tokenización es el proceso de cortar cadenas de texto en unidades constitutivas identificables. Así, una cadena en bruto como `\"este es un texto\"` puede ser tokenizada en palabras en `'este', 'es', 'un, 'texto'`. La tokenización del rango de la palabra y la cláusula son las más comunes. \n",
        "\n",
        "En el caso de las palabras, el estándar es la tokenización a partir de espacios en blanco entre palabras `' '`. Si bien rápido y práctico, este método no identifica palabras compuestas por n-gramas como *proceso civilizatorio*, *estado de emergencia*, o *system of gobernment*, mucho más comunes en el lenguaje especializado. El código siguiente, realiza una tokenización con expresiones regulares identificando espacios en blanco `' '`, saltos de línea `\\n` y tabulaciones `\\t` en uno o más carácteres `+`."
      ]
    },
    {
      "cell_type": "code",
      "metadata": {
        "colab": {
          "base_uri": "https://localhost:8080/"
        },
        "id": "prJH4KEK_K67",
        "outputId": "c45e1172-4363-473b-c3a6-3817ffc69ccf"
      },
      "source": [
        "raw = \"\"\"DENNIS: Listen, strange women lying in ponds distributing swords\n",
        "is no basis for a system of government.\"\"\"\n",
        "\n",
        "re.split(r'[ \\t\\n]+', raw) # r = considera los elementos interiores de '' literalmente"
      ],
      "execution_count": 208,
      "outputs": [
        {
          "output_type": "execute_result",
          "data": {
            "text/plain": [
              "['DENNIS:',\n",
              " 'Listen,',\n",
              " 'strange',\n",
              " 'women',\n",
              " 'lying',\n",
              " 'in',\n",
              " 'ponds',\n",
              " 'distributing',\n",
              " 'swords',\n",
              " 'is',\n",
              " 'no',\n",
              " 'basis',\n",
              " 'for',\n",
              " 'a',\n",
              " 'system',\n",
              " 'of',\n",
              " 'government.']"
            ]
          },
          "metadata": {
            "tags": []
          },
          "execution_count": 208
        }
      ]
    },
    {
      "cell_type": "markdown",
      "metadata": {
        "id": "zjn0xpB0_1qO"
      },
      "source": [
        "Además de este método, el metacarácter `\\w` identifica todos los elementos que **NO sean** una palabra (e.g. puntos, metacarácteres, etc.), mientras que en su forma mayúscula `\\W` identifica solo palabras. **No obstante, parece que en este Google Colab ambos metacarácteres están invertidos. En todas partes dice que minúscula = palabra y mayúscula = no-palabra.**"
      ]
    },
    {
      "cell_type": "code",
      "metadata": {
        "colab": {
          "base_uri": "https://localhost:8080/"
        },
        "id": "Oe_4b7yvBFww",
        "outputId": "1384dd1f-5112-4464-a5ad-df06d493e9e1"
      },
      "source": [
        "# \\w identificará las NO-palabras\n",
        "re.split('\\w+', raw)"
      ],
      "execution_count": 209,
      "outputs": [
        {
          "output_type": "execute_result",
          "data": {
            "text/plain": [
              "['',\n",
              " ': ',\n",
              " ', ',\n",
              " ' ',\n",
              " ' ',\n",
              " ' ',\n",
              " ' ',\n",
              " ' ',\n",
              " ' ',\n",
              " '\\n',\n",
              " ' ',\n",
              " ' ',\n",
              " ' ',\n",
              " ' ',\n",
              " ' ',\n",
              " ' ',\n",
              " ' ',\n",
              " '.']"
            ]
          },
          "metadata": {
            "tags": []
          },
          "execution_count": 209
        }
      ]
    },
    {
      "cell_type": "code",
      "metadata": {
        "colab": {
          "base_uri": "https://localhost:8080/"
        },
        "id": "L4nQFyTUAznO",
        "outputId": "46db6c23-a6de-43b9-a8eb-91720cd07cea"
      },
      "source": [
        "# \\w identificará las palabras\n",
        "re.split('\\W+', raw)"
      ],
      "execution_count": 210,
      "outputs": [
        {
          "output_type": "execute_result",
          "data": {
            "text/plain": [
              "['DENNIS',\n",
              " 'Listen',\n",
              " 'strange',\n",
              " 'women',\n",
              " 'lying',\n",
              " 'in',\n",
              " 'ponds',\n",
              " 'distributing',\n",
              " 'swords',\n",
              " 'is',\n",
              " 'no',\n",
              " 'basis',\n",
              " 'for',\n",
              " 'a',\n",
              " 'system',\n",
              " 'of',\n",
              " 'government',\n",
              " '']"
            ]
          },
          "metadata": {
            "tags": []
          },
          "execution_count": 210
        }
      ]
    },
    {
      "cell_type": "markdown",
      "metadata": {
        "id": "IgEn5YNiDE9s"
      },
      "source": [
        "A partir de expresiones regulares, podemos identificar estas palabras compuestas por n-gramas como *system of government* y *president of USA*. En la expresión regular `\"(\\w+\\s+of\\s\\w+)\"`, le indicamos al programa que encuentre una palabra `\\w+` seguida de un espacio en blanco `\\s` seguida de `of`. Además, al incluir el operador OR `|` dentro del agrupamiento `()` podemos lograr que este haga match no solo a los compuesto de n-gramas, sino también a los lexemas individuales. **Nota: el regex es sensible a los espacios en blanco entre metacaracteres**. "
      ]
    },
    {
      "cell_type": "code",
      "metadata": {
        "colab": {
          "base_uri": "https://localhost:8080/"
        },
        "id": "1LUwqI0sDFM5",
        "outputId": "3c458bf3-feac-43f2-9019-ec30cbb01479"
      },
      "source": [
        "other_text = \"The system of goverment surely is not enough for citizen's problems. They need the president of USA appers.\"\n",
        "\n",
        "re.findall(r\"(\\w+\\s+of\\s\\w+|\\w+)\", other_text)"
      ],
      "execution_count": 211,
      "outputs": [
        {
          "output_type": "execute_result",
          "data": {
            "text/plain": [
              "['The',\n",
              " 'system of goverment',\n",
              " 'surely',\n",
              " 'is',\n",
              " 'not',\n",
              " 'enough',\n",
              " 'for',\n",
              " 'citizen',\n",
              " 's',\n",
              " 'problems',\n",
              " 'They',\n",
              " 'need',\n",
              " 'the',\n",
              " 'president of USA',\n",
              " 'appers']"
            ]
          },
          "metadata": {
            "tags": []
          },
          "execution_count": 211
        }
      ]
    },
    {
      "cell_type": "markdown",
      "metadata": {
        "id": "KoY7LRceRmQE"
      },
      "source": [
        "`nltk.regexp_tokenize` es otro tokenizador disponible en el paquete nltk, más tiempo-eficiente que el regex con `re.findall`. Así, es posible comparar los tokenizadores: \"We can evaluate a tokenizer by comparing the resulting tokens with a `wordlist`, and then report any tokens that don’t appear in the wordlist, using `set(tokens).difference(wordlist)`. You’ll probably want to lowercase all the tokens first.\""
      ]
    },
    {
      "cell_type": "code",
      "metadata": {
        "colab": {
          "base_uri": "https://localhost:8080/"
        },
        "id": "nTnhyKlqRVBU",
        "outputId": "de2a1356-fdf7-40dd-823e-b028593ccee5"
      },
      "source": [
        "pattern = r\"(\\w+\\s+of\\s\\w+|\\w+)\"\n",
        "nltk.regexp_tokenize(other_text, pattern)"
      ],
      "execution_count": 212,
      "outputs": [
        {
          "output_type": "execute_result",
          "data": {
            "text/plain": [
              "['The',\n",
              " 'system of goverment',\n",
              " 'surely',\n",
              " 'is',\n",
              " 'not',\n",
              " 'enough',\n",
              " 'for',\n",
              " 'citizen',\n",
              " 's',\n",
              " 'problems',\n",
              " 'They',\n",
              " 'need',\n",
              " 'the',\n",
              " 'president of USA',\n",
              " 'appers']"
            ]
          },
          "metadata": {
            "tags": []
          },
          "execution_count": 212
        }
      ]
    },
    {
      "cell_type": "markdown",
      "metadata": {
        "id": "X7P1YAOYXPad"
      },
      "source": [
        "## Ejercicios Capítulo 3\n"
      ]
    },
    {
      "cell_type": "markdown",
      "metadata": {
        "id": "z1AtDE5xXSQn"
      },
      "source": [
        "1. **Define a string `s = 'colorless'`. Write a Python statement that changes this to “colourless” using only the slice and concatenation operations.**"
      ]
    },
    {
      "cell_type": "code",
      "metadata": {
        "colab": {
          "base_uri": "https://localhost:8080/",
          "height": 35
        },
        "id": "Ys_CW0XMXVqd",
        "outputId": "01c9ef02-545b-44f4-ea2b-e230a2cb3810"
      },
      "source": [
        "s = \"colorless\"\n",
        "\n",
        "s2 = s[:4] + \"u\" + s[4:]\n",
        "s2"
      ],
      "execution_count": 213,
      "outputs": [
        {
          "output_type": "execute_result",
          "data": {
            "application/vnd.google.colaboratory.intrinsic+json": {
              "type": "string"
            },
            "text/plain": [
              "'colourless'"
            ]
          },
          "metadata": {
            "tags": []
          },
          "execution_count": 213
        }
      ]
    },
    {
      "cell_type": "markdown",
      "metadata": {
        "id": "D5uW1_ZsX9SQ"
      },
      "source": [
        "2. **We can use the slice notation to remove morphological endings on words. For example, 'dogs'[:-1] removes the last character of dogs, leaving dog. Use slice notation to remove the affixes from these words (we’ve inserted a hyphen to indicate the affix boundary, but omit this from your strings): dish-es, run-ning, nation- ality, un-do, pre-heat**"
      ]
    },
    {
      "cell_type": "code",
      "metadata": {
        "colab": {
          "base_uri": "https://localhost:8080/"
        },
        "id": "m9Pqf9tiYG5T",
        "outputId": "8d843ed2-a416-49e7-a15e-b13bc2bf2a83"
      },
      "source": [
        "steam = [\"dishes\"[:-2], \"running\"[:3], \"nationality\"[:-5], \"undo\"[2:], \"preheat\"[3:]]\n",
        "steam"
      ],
      "execution_count": 214,
      "outputs": [
        {
          "output_type": "execute_result",
          "data": {
            "text/plain": [
              "['dish', 'run', 'nation', 'do', 'heat']"
            ]
          },
          "metadata": {
            "tags": []
          },
          "execution_count": 214
        }
      ]
    },
    {
      "cell_type": "markdown",
      "metadata": {
        "id": "T79LO2YnYjxn"
      },
      "source": [
        "3. **We can specify a “step” size for the slice. The following returns every second character within the slice: monty[6:11:2]. It also works in the reverse direction: monty[10:5:-2]. Try these for yourself, and then experiment with different step values.**"
      ]
    },
    {
      "cell_type": "code",
      "metadata": {
        "colab": {
          "base_uri": "https://localhost:8080/",
          "height": 35
        },
        "id": "qveeF9pAYtN4",
        "outputId": "bcb9c113-ee57-4d04-955f-78651af07a24"
      },
      "source": [
        "monty = \"monty python\"\n",
        "monty[10:5:-4]"
      ],
      "execution_count": 215,
      "outputs": [
        {
          "output_type": "execute_result",
          "data": {
            "application/vnd.google.colaboratory.intrinsic+json": {
              "type": "string"
            },
            "text/plain": [
              "'op'"
            ]
          },
          "metadata": {
            "tags": []
          },
          "execution_count": 215
        }
      ]
    },
    {
      "cell_type": "markdown",
      "metadata": {
        "id": "6rOMLY4ZZK7k"
      },
      "source": [
        "4. **Describe the class of strings matched by the following regular expressions:**\n",
        "1. **[a-zA-Z]+**: cualquier palabra = \\w+\n",
        "\n",
        "2. **[A-Z][a-z]***: todas las letras individualmente\n",
        "\n",
        "3. **p[aeiou]{,2}t**: letra p seguida de menos de 2 vocales\n",
        "\n",
        "4. **\\d+(\\.\\d+)?**: numeros *e.g. 1.22222*\n",
        "\n",
        "5. **([^aeiou][aeiou][^aeiou])***: estructura cvc\n",
        "\n",
        "6. **\\w+|[^\\w\\s]+**: una palabra PERO NO una letra seguida de espacio"
      ]
    },
    {
      "cell_type": "markdown",
      "metadata": {
        "id": "1RZ7uS3HbY6A"
      },
      "source": [
        "5. **Write regular expressions to match the following classes of strings:**\n",
        "1. A single determiner (assume that a, an, and the are the only determiners)\n",
        "2. An arithmetic expression using integers, addition, and multiplication, such as 2*3+8"
      ]
    },
    {
      "cell_type": "code",
      "metadata": {
        "colab": {
          "base_uri": "https://localhost:8080/"
        },
        "id": "Npm2M4GwbYUj",
        "outputId": "dcc664f7-fc10-4ddb-eea8-20b5cee76905"
      },
      "source": [
        "import re\n",
        "\n",
        "determiner = \"the house in an amazing house and a beautiful home\"\n",
        "aritmetics = \"2*3+8\"\n",
        "\n",
        "re.findall(r\"the|a[n]?[^a-z]\", determiner) # listoko\n",
        "re.findall(\"(\\d+([+*-]?))+\", aritmetics)  # listo"
      ],
      "execution_count": 216,
      "outputs": [
        {
          "output_type": "execute_result",
          "data": {
            "text/plain": [
              "[('8', '')]"
            ]
          },
          "metadata": {
            "tags": []
          },
          "execution_count": 216
        }
      ]
    },
    {
      "cell_type": "markdown",
      "metadata": {
        "id": "zc_Glmqvje09"
      },
      "source": [
        "5. **Rewrite the following loop as a list comprehension:**"
      ]
    },
    {
      "cell_type": "code",
      "metadata": {
        "colab": {
          "base_uri": "https://localhost:8080/"
        },
        "id": "x09qkAjWj2Xa",
        "outputId": "7cd333f6-83f0-4ac6-fd26-12b7ce02b796"
      },
      "source": [
        "sent = [\"the\", \"dog\", \"gave\", \"John\", \"the\", \"newspaper\"]\n",
        "\n",
        "# Programa original en un for loop\n",
        "result = []\n",
        "for word in sent:\n",
        "  word_len = (word, len(word))\n",
        "  result.append(word_len)\n",
        "\n",
        "# Programa reescrito en una lista comprehensiva\n",
        "result = [(word, len(word)) for word in sent]\n",
        "\n",
        "result"
      ],
      "execution_count": 217,
      "outputs": [
        {
          "output_type": "execute_result",
          "data": {
            "text/plain": [
              "[('the', 3),\n",
              " ('dog', 3),\n",
              " ('gave', 4),\n",
              " ('John', 4),\n",
              " ('the', 3),\n",
              " ('newspaper', 9)]"
            ]
          },
          "metadata": {
            "tags": []
          },
          "execution_count": 217
        }
      ]
    },
    {
      "cell_type": "markdown",
      "metadata": {
        "id": "L-W8wG_Blj6v"
      },
      "source": [
        "6. **Define a string raw containing a sentence of your own choosing. Now, split raw on some character other than space, such as 's'**"
      ]
    },
    {
      "cell_type": "code",
      "metadata": {
        "colab": {
          "base_uri": "https://localhost:8080/"
        },
        "id": "AjxZp5etlpZv",
        "outputId": "86749799-cbd1-4348-c218-576fa09f370f"
      },
      "source": [
        "determiner = \"the house in an amazing house and a beautiful home\"\n",
        "\n",
        "re.split(\"[a]\", determiner)"
      ],
      "execution_count": 218,
      "outputs": [
        {
          "output_type": "execute_result",
          "data": {
            "text/plain": [
              "['the house in ', 'n ', 'm', 'zing house ', 'nd ', ' be', 'utiful home']"
            ]
          },
          "metadata": {
            "tags": []
          },
          "execution_count": 218
        }
      ]
    },
    {
      "cell_type": "markdown",
      "metadata": {
        "id": "LWYdhJtSl53_"
      },
      "source": [
        "7. **Write a for loop to print out the characters of a string, one per line.**"
      ]
    },
    {
      "cell_type": "code",
      "metadata": {
        "id": "WUiNTrj7l8ie",
        "colab": {
          "base_uri": "https://localhost:8080/"
        },
        "outputId": "8598176f-4068-46c8-f536-0e109a21212e"
      },
      "source": [
        "determiner = \"the house in an amazing house and a beautiful home\"\n",
        "\n",
        "for c in determiner:\n",
        "  t = re.findall(r'\\w', c)\n",
        "  print(t)"
      ],
      "execution_count": 219,
      "outputs": [
        {
          "output_type": "stream",
          "text": [
            "['t']\n",
            "['h']\n",
            "['e']\n",
            "[]\n",
            "['h']\n",
            "['o']\n",
            "['u']\n",
            "['s']\n",
            "['e']\n",
            "[]\n",
            "['i']\n",
            "['n']\n",
            "[]\n",
            "['a']\n",
            "['n']\n",
            "[]\n",
            "['a']\n",
            "['m']\n",
            "['a']\n",
            "['z']\n",
            "['i']\n",
            "['n']\n",
            "['g']\n",
            "[]\n",
            "['h']\n",
            "['o']\n",
            "['u']\n",
            "['s']\n",
            "['e']\n",
            "[]\n",
            "['a']\n",
            "['n']\n",
            "['d']\n",
            "[]\n",
            "['a']\n",
            "[]\n",
            "['b']\n",
            "['e']\n",
            "['a']\n",
            "['u']\n",
            "['t']\n",
            "['i']\n",
            "['f']\n",
            "['u']\n",
            "['l']\n",
            "[]\n",
            "['h']\n",
            "['o']\n",
            "['m']\n",
            "['e']\n"
          ],
          "name": "stdout"
        }
      ]
    },
    {
      "cell_type": "markdown",
      "metadata": {
        "id": "EH24gL0OmY40"
      },
      "source": [
        "8. **Create a variable words containing a list of words. Experiment with words.sort() and sorted(words). What is the difference?**"
      ]
    },
    {
      "cell_type": "code",
      "metadata": {
        "colab": {
          "base_uri": "https://localhost:8080/"
        },
        "id": "T4H2uGGImegx",
        "outputId": "8629e555-a9c5-4434-adc7-aa3c4986ba25"
      },
      "source": [
        "words = \"the house in an amazing house and a beautiful home\"\n",
        "words = re.findall(r'\\w+', words)\n",
        "\n",
        "words.sort() # no devuelve nada\n",
        "sorted(words) # devuelve en orden alfabético"
      ],
      "execution_count": 220,
      "outputs": [
        {
          "output_type": "execute_result",
          "data": {
            "text/plain": [
              "['a',\n",
              " 'amazing',\n",
              " 'an',\n",
              " 'and',\n",
              " 'beautiful',\n",
              " 'home',\n",
              " 'house',\n",
              " 'house',\n",
              " 'in',\n",
              " 'the']"
            ]
          },
          "metadata": {
            "tags": []
          },
          "execution_count": 220
        }
      ]
    },
    {
      "cell_type": "markdown",
      "metadata": {
        "id": "Lprhy9D_nFY9"
      },
      "source": [
        "9. **Read in some text from a corpus, tokenize it, and print the list of all wh-word types that occur. (wh-words in English are used in questions, relative clauses, and exclamations: who, which, what, and so on.) Print them in order. Are any words duplicated in this list, because of the presence of case distinctions or punctuation?**"
      ]
    },
    {
      "cell_type": "code",
      "metadata": {
        "colab": {
          "base_uri": "https://localhost:8080/"
        },
        "id": "j8Zo7_70nUQM",
        "outputId": "2c79bab4-e0ce-4544-cfd4-da6bd99d60bd"
      },
      "source": [
        "emma = nltk.corpus.gutenberg.words(\"austen-emma.txt\")\n",
        "\n",
        "wh_words = [wh \n",
        "            for w in emma \n",
        "            for wh in re.findall(r'who|what|when|where|why|which|whom|whose', w)] # para cada palabra en emma.txt\n",
        "\n",
        "cfd_wh = nltk.FreqDist(wh_words)\n",
        "cfd_wh.tabulate()"
      ],
      "execution_count": 221,
      "outputs": [
        {
          "output_type": "stream",
          "text": [
            "which   who  what  when where   why \n",
            "  553   492   454   337   106    33 \n"
          ],
          "name": "stdout"
        }
      ]
    },
    {
      "cell_type": "markdown",
      "metadata": {
        "id": "cBDbg1lEtCu1"
      },
      "source": [
        "10. **Are you able to write a regular expression to tokenize text in such a way that the word don’t is tokenized into do and n’t? Explain why this regular expression won’t work: «n't|\\w+».**"
      ]
    },
    {
      "cell_type": "code",
      "metadata": {
        "colab": {
          "base_uri": "https://localhost:8080/"
        },
        "id": "K2Bc5qdytmb2",
        "outputId": "1e971190-3720-4b68-80a1-e9d74db01b26"
      },
      "source": [
        "dont = \"don't call me now. It doesn't feel good\"\n",
        "\n",
        "#nltk.re_show(r\"\\w+|(n't)\", dont)\n",
        "\n",
        "patterns_list = [r\"(n\\'t)\"]\n",
        "pattern=re.compile('|'.join(patterns_list))\n",
        "\n",
        "print([i for i in pattern.split(dont) if i])"
      ],
      "execution_count": 222,
      "outputs": [
        {
          "output_type": "stream",
          "text": [
            "['do', \"n't\", ' call me now. It does', \"n't\", ' feel good']\n"
          ],
          "name": "stdout"
        }
      ]
    },
    {
      "cell_type": "markdown",
      "metadata": {
        "id": "JHOHPcycPh-g"
      },
      "source": [
        "11. **Try to write code to convert text into hAck3r, using regular expressions and substitution, where e → 3, i → 1, o → 0, l → |, s → 5, . → 5w33t!, ate → 8. Normalize the text to lowercase before converting it. Add more substitutions of your own. Now try to map s to two different values: $ for word-initial s, and 5 for word- internal s.**"
      ]
    },
    {
      "cell_type": "code",
      "metadata": {
        "colab": {
          "base_uri": "https://localhost:8080/"
        },
        "id": "IdCFE2FoOYXv",
        "outputId": "ab96cfd0-da3b-456d-ceac-649527aa0044"
      },
      "source": [
        "# Texto a convertir\n",
        "\n",
        "texto_original = \"the house is in an amazing house and a beautiful home for an ate and sun.\"\n",
        "\n",
        "print(texto_original.replace('e', '3').\n",
        "      replace('o', '0').\n",
        "      replace('i', '1').\n",
        "      replace('l', '|').\n",
        "      replace('.', '5w33t!').\n",
        "      replace('ate', '8').\n",
        "      replace('s', '5')\n",
        "      )"
      ],
      "execution_count": 223,
      "outputs": [
        {
          "output_type": "stream",
          "text": [
            "th3 h0u53 15 1n an amaz1ng h0u53 and a b3aut1fu| h0m3 f0r an at3 and 5un5w33t!\n"
          ],
          "name": "stdout"
        }
      ]
    },
    {
      "cell_type": "markdown",
      "metadata": {
        "id": "MT6LWJQZ0-6M"
      },
      "source": [
        "12. **Download some text from a language that has vowel harmony (e.g., Hungarian), extract the vowel sequences of words, and create a vowel bigram table.**"
      ]
    },
    {
      "cell_type": "code",
      "metadata": {
        "colab": {
          "base_uri": "https://localhost:8080/"
        },
        "id": "XD-fdoP51fWN",
        "outputId": "53d7682b-f8c0-48b0-f21c-2457ea8a3d14"
      },
      "source": [
        "from nltk.corpus import udhr\n",
        "\n",
        "raw_hungaro = udhr.raw('Hungarian_Magyar-Latin1')\n",
        "solo_vocal = re.findall(r\"[aeiouáéúőóüö ]\", raw_hungaro)\n",
        "palabras_vocales = ''.join(solo_vocal)\n",
        "palabras_vocales_listado = re.findall(r\"\\w+\", palabras_vocales)\n",
        "\n",
        "cvs = [cv \n",
        "       for w in palabras_vocales_listado \n",
        "       for cv in re.findall(r'[aeiouáéúőóüö][aeiouáéúőóüö]', w)]\n",
        "cfd = nltk.ConditionalFreqDist(cvs)\n",
        "cfd.tabulate()"
      ],
      "execution_count": 271,
      "outputs": [
        {
          "output_type": "stream",
          "text": [
            "    a   e   i   o   u   á   é   ó   ö   ú   ü \n",
            "a 104  12   9  33   4  55   0  12   0   0   0 \n",
            "e  13 181  45  12   1  10  83   0   5   0  20 \n",
            "i  28  73  23  11   0   6   8   0   1   0   0 \n",
            "o  64   1  11  26   0  24   2   1   0   1   0 \n",
            "u  14   1   0   1   1   3   0   2   0   0   0 \n",
            "á  57   5  15  36   1  18   2   4   0   0   0 \n",
            "é   2  81   5   0   0   3  16   6   0   1   7 \n",
            "ó   3   0   0   1   1   3   1   2   0   0   0 \n",
            "ö   1  11   6   1   0   0  11   0  12   0   3 \n",
            "ú   0   0   0   2   0   4   0   1   0   0   0 \n",
            "ü   0  14   1   0   0   0   6   0   4   0   0 \n"
          ],
          "name": "stdout"
        }
      ]
    },
    {
      "cell_type": "markdown",
      "metadata": {
        "id": "jb-OsnWV9Dug"
      },
      "source": [
        "13. **Python’s random module includes a function choice() which randomly chooses an item from a sequence; e.g., choice(\"aehh \") will produce one of four possible characters, with the letter h being twice as frequent as the others. Write a generator expression that produces a sequence of 500 randomly chosen letters drawn from the string \"aehh \", and put this expression inside a call to the ''.join() function, to concatenate them into one long string. You should get a result that looks like uncontrolled sneezing or maniacal laughter: he haha ee heheeh eha. Use split() and join() again to normalize the whitespace in this string.**"
      ]
    },
    {
      "cell_type": "code",
      "metadata": {
        "colab": {
          "base_uri": "https://localhost:8080/"
        },
        "id": "YTSUseXBA2x2",
        "outputId": "3ffcae7c-c6f9-4ca5-f54c-35f2e2b338ab"
      },
      "source": [
        "from random import choice\n",
        "\n",
        "letras = [\"a\", \"e\", \"h\", \"h\", \" \"]\n",
        "\n",
        "def risotada(letras):\n",
        "  risa = ''.join(choice(letras) for x in range(500))\n",
        "  print(risa)\n",
        "\n",
        "risotada(letras)"
      ],
      "execution_count": 385,
      "outputs": [
        {
          "output_type": "stream",
          "text": [
            "haaeahhaeheheh hha aheae ahh aeeaaehhe hhhehehhehehh ea ahaeaah heeheh ehah  aaa  eh h e heha hheahehhea hhahh e aah a    hh hae  h hhaaae ahhe ahhhhh aahe  a  ae haahehha hhhhhh aa ehh a hh ahehh h h   h  e aaeh haeae ehaeeeehahhaheahhh haehhh  hhhehhh a   h ah  h hhhea hhhhah  aehhahhh ehhaahhhhhhaahhaahaaehehha aahhah ha  aahehahe ha eeehehehheheahaahah ahhehhhe e e hhe hh haahh haeae he haahee e aeah eahheee  hhehhhhehae ahaaehehaaaahhe hhhhheh hha ahee  ehaahh aeahhh hea    hhe ae aehaa haa\n"
          ],
          "name": "stdout"
        }
      ]
    },
    {
      "cell_type": "markdown",
      "metadata": {
        "id": "qOehRvVtKH9X"
      },
      "source": [
        "14. **Readability measures are used to score the reading difficulty of a text, for the purposes of selecting texts of appropriate difficulty for language learners. Let us define μw to be the average number of letters per word, and μs to be the average number of words per sentence, in a given text. The Automated Readability Index (ARI) of the text is defined to be: 4.71 μw + 0.5 μs - 21.43. Compute the ARI score for various sections of the Brown Corpus, including section f (popular lore) and j (learned). Make use of the fact that nltk.corpus.brown.words() produces a sequence of words, whereas nltk.corpus.brown.sents() produces a sequence of sentences.**"
      ]
    },
    {
      "cell_type": "code",
      "metadata": {
        "colab": {
          "base_uri": "https://localhost:8080/"
        },
        "id": "bmjL_qP-LCLS",
        "outputId": "1890b798-7457-40b3-c7fd-cc7d0ff579f4"
      },
      "source": [
        "palabras = [\"aoa\", \"antonio\", \"a\"]\n",
        "texto_ejemplo = \"este es un texto. Tiene oraciones y todas no se que cosa. No sé que más.\"\n",
        "tokenizado_ejemplo = re.findall(r\"\\w+\", texto_ejemplo)\n",
        "\n",
        "def average_letters_words(raw_text):\n",
        "  tokenize = re.findall(r\"\\w+\", raw_text)\n",
        "  len_words = [len(word) for word in tokenize]\n",
        "  average_word_len = sum(len_words)/len(len_words)\n",
        "  return(int(round(average_word_len)))\n",
        "\n",
        "def average_words_sentences(raw_text):\n",
        "  create_sentences = raw_text.split(\".\")\n",
        "  tokenize = [re.findall(r\"\\w+\", t) for t in create_sentences] \n",
        "  len_sentence = [len(sentence) for sentence in tokenize]\n",
        "  average_sentence_len = sum(len_sentence[:-1])/len(len_sentence[:-1])\n",
        "  return(int(round(average_sentence_len)))\n",
        "\n",
        "def automated_readability_index(raw_text):\n",
        "  letters_words = average_letters_words(raw_text) * 4.71\n",
        "  words_sentences = average_words_sentences(raw_text) * 0.5\n",
        "  score = round(letters_words + words_sentences - 21.43)\n",
        "  return score\n",
        "\n",
        "print(\"género ARI\")\n",
        "print(\"Lore:\", automated_readability_index(' '.join(nltk.corpus.brown.words(categories='lore'))))\n",
        "print(\"Learned:\", automated_readability_index(' '.join(nltk.corpus.brown.words(categories='news'))))\n",
        "print(\"Adventure:\", automated_readability_index(' '.join(nltk.corpus.brown.words(categories='adventure'))))\n",
        "print(\"Science fiction:\", automated_readability_index(' '.join(nltk.corpus.brown.words(categories='science_fiction'))))\n",
        "print(\"Humor:\", automated_readability_index(' '.join(nltk.corpus.brown.words(categories='humor'))))\n",
        "print(\"Hobbies\", automated_readability_index(' '.join(nltk.corpus.brown.words(categories='hobbies'))))\n",
        "print(\"Belles lettres\", automated_readability_index(' '.join(nltk.corpus.brown.words(categories='lore'))))"
      ],
      "execution_count": 565,
      "outputs": [
        {
          "output_type": "stream",
          "text": [
            "género ARI\n",
            "Lore: 13\n",
            "Learned: 10\n",
            "Adventure: 4\n",
            "Science fiction: 5\n",
            "Humor: 7\n",
            "Hobbies 12\n",
            "Belles lettres 13\n"
          ],
          "name": "stdout"
        }
      ]
    },
    {
      "cell_type": "markdown",
      "metadata": {
        "id": "xVXyL8fFhCQ7"
      },
      "source": [
        ""
      ]
    }
  ]
}