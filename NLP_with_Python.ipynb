{
  "nbformat": 4,
  "nbformat_minor": 0,
  "metadata": {
    "colab": {
      "name": "NLP with Python.ipynb",
      "provenance": [],
      "collapsed_sections": [],
      "toc_visible": true,
      "authorship_tag": "ABX9TyNe3fGS4X3dlP+OZnyhMPFN"
    },
    "kernelspec": {
      "name": "python3",
      "display_name": "Python 3"
    }
  },
  "cells": [
    {
      "cell_type": "markdown",
      "metadata": {
        "id": "_jA_gJyhqMel"
      },
      "source": [
        "# Introducción a Python y NLP"
      ]
    },
    {
      "cell_type": "markdown",
      "metadata": {
        "id": "btob3SSEA2eO"
      },
      "source": [
        "En este *notebook*, desarrollo los ejercicios del libro *Natural Languaje Processing with Python*. Para esto, hay que importar el paquete principal **nltk** y sus dataframes asociados."
      ]
    },
    {
      "cell_type": "code",
      "metadata": {
        "id": "tCKuR6MqAvfr"
      },
      "source": [
        "%%capture\n",
        "import nltk \n",
        "nltk.download(\"book\")\n",
        "from nltk.book import *\n"
      ],
      "execution_count": 2,
      "outputs": []
    },
    {
      "cell_type": "code",
      "metadata": {
        "colab": {
          "base_uri": "https://localhost:8080/"
        },
        "id": "N1eKSYxNAtp5",
        "outputId": "f96b5c16-85ae-4270-91a2-d1dcece56c98"
      },
      "source": [
        "texts()"
      ],
      "execution_count": 3,
      "outputs": [
        {
          "output_type": "stream",
          "text": [
            "text1: Moby Dick by Herman Melville 1851\n",
            "text2: Sense and Sensibility by Jane Austen 1811\n",
            "text3: The Book of Genesis\n",
            "text4: Inaugural Address Corpus\n",
            "text5: Chat Corpus\n",
            "text6: Monty Python and the Holy Grail\n",
            "text7: Wall Street Journal\n",
            "text8: Personals Corpus\n",
            "text9: The Man Who Was Thursday by G . K . Chesterton 1908\n"
          ],
          "name": "stdout"
        }
      ]
    },
    {
      "cell_type": "markdown",
      "metadata": {
        "id": "qGUnkRDaBbNN"
      },
      "source": [
        "## Análisis básicos en NLP\n",
        "\n",
        "Como es clásico, la búsqueda de concordancia nos permite explorar superficialmente de qué va un texto. Las concordancias pueden mostrarse a través del método `.concordance(\"word\")`:"
      ]
    },
    {
      "cell_type": "code",
      "metadata": {
        "colab": {
          "base_uri": "https://localhost:8080/"
        },
        "id": "s1DuwJeXBlzU",
        "outputId": "f3a4fcb6-547b-4bc0-af5f-8774ebc92e5c"
      },
      "source": [
        "text2.concordance(\"love\")"
      ],
      "execution_count": 4,
      "outputs": [
        {
          "output_type": "stream",
          "text": [
            "Displaying 25 of 77 matches:\n",
            "priety of going , and her own tender love for all her three children determine\n",
            "es .\" \" I believe you are right , my love ; it will be better that there shoul\n",
            " . It implies everything amiable . I love him already .\" \" I think you will li\n",
            "sentiment of approbation inferior to love .\" \" You may esteem him .\" \" I have \n",
            "n what it was to separate esteem and love .\" Mrs . Dashwood now took pains to \n",
            "oner did she perceive any symptom of love in his behaviour to Elinor , than sh\n",
            " how shall we do without her ?\" \" My love , it will be scarcely a separation .\n",
            "ise . Edward is very amiable , and I love him tenderly . But yet -- he is not \n",
            "ll never see a man whom I can really love . I require so much ! He must have a\n",
            "ry possible charm .\" \" Remember , my love , that you are not seventeen . It is\n",
            "f I do not now . When you tell me to love him as a brother , I shall no more s\n",
            "hat Colonel Brandon was very much in love with Marianne Dashwood . She rather \n",
            "e were ever animated enough to be in love , must have long outlived every sens\n",
            "hirty - five anything near enough to love , to make him a desirable companion \n",
            "roach would have been spared .\" \" My love ,\" said her mother , \" you must not \n",
            "pect that the misery of disappointed love had already been known to him . This\n",
            " most melancholy order of disastrous love . CHAPTER 12 As Elinor and Marianne \n",
            "hen she considered what Marianne ' s love for him was , a quarrel seemed almos\n",
            "ctory way ;-- but you , Elinor , who love to doubt where you can -- it will no\n",
            " man whom we have all such reason to love , and no reason in the world to thin\n",
            "ded as he must be of your sister ' s love , should leave her , and leave her p\n",
            "cannot think that . He must and does love her I am sure .\" \" But with a strang\n",
            " I believe not ,\" cried Elinor . \" I love Willoughby , sincerely love him ; an\n",
            "or . \" I love Willoughby , sincerely love him ; and suspicion of his integrity\n",
            "deed a man could not very well be in love with either of her daughters , witho\n"
          ],
          "name": "stdout"
        }
      ]
    },
    {
      "cell_type": "markdown",
      "metadata": {
        "id": "DXd9vti-DGti"
      },
      "source": [
        "Expresiones que ocupan un contexto similar (como \"amor\" en el caso anterior) pueden evidenciarse con el método `.similar(\"word\")`. En el ejemplo siguiente, vemos palabras que ocupan regularmente el mismo contexto que *amor* en Orgullo y Prejuicio:"
      ]
    },
    {
      "cell_type": "code",
      "metadata": {
        "colab": {
          "base_uri": "https://localhost:8080/"
        },
        "id": "0jacqT3BDPoa",
        "outputId": "d535ff9e-f0fb-4843-8b6b-8e41384bc861"
      },
      "source": [
        "text2.similar(\"love\")"
      ],
      "execution_count": 5,
      "outputs": [
        {
          "output_type": "stream",
          "text": [
            "affection sister heart mother time see town life it dear elinor\n",
            "marianne me word family her him do regard head\n"
          ],
          "name": "stdout"
        }
      ]
    },
    {
      "cell_type": "markdown",
      "metadata": {
        "id": "OzWEl6UhDhGu"
      },
      "source": [
        "Si hacemos lo mismo con Moby Dick, vemos que el \"love\" ocupa las mismas posiciones que *mar, vida, muerte, naturaleza, hombre, barco*, mientras que en Orgullo y Prejuicio esto se reserva en el *afecto*, el pueblo, la familia. Esto es interesante en tanto es un reflejo del efecto del **campo** en la combinatoria:"
      ]
    },
    {
      "cell_type": "code",
      "metadata": {
        "colab": {
          "base_uri": "https://localhost:8080/"
        },
        "id": "oZV1r9srDlaq",
        "outputId": "e5b87f60-24df-4abc-e96d-6e8946d1c893"
      },
      "source": [
        "text1.similar(\"love\")"
      ],
      "execution_count": 6,
      "outputs": [
        {
          "output_type": "stream",
          "text": [
            "sea man it ship by him hand them whale view ships land me life death\n",
            "water way head nature fear\n"
          ],
          "name": "stdout"
        }
      ]
    },
    {
      "cell_type": "markdown",
      "metadata": {
        "id": "4R6-Jd3er1Sm"
      },
      "source": [
        "Un clásico también son los *dispersion plots*. Con este, se puede visualizar la instanciación de lexemas en un texto completo, tal como en los discursos presidenciales estadounidenses y en Orgullo y Prejuicio:"
      ]
    },
    {
      "cell_type": "code",
      "metadata": {
        "colab": {
          "base_uri": "https://localhost:8080/",
          "height": 573
        },
        "id": "JKlz6Zl2ptfr",
        "outputId": "5e90d519-1ddd-476e-8e91-55ca1e265347"
      },
      "source": [
        "text4.dispersion_plot([\"democracy\", \"liberty\", \"war\", \"women\"])\n",
        "text2.dispersion_plot([\"love\", \"hate\"])"
      ],
      "execution_count": 7,
      "outputs": [
        {
          "output_type": "display_data",
          "data": {
            "image/png": "[encoded data removed]",
            "text/plain": [
              "<Figure size 432x288 with 1 Axes>"
            ]
          },
          "metadata": {
            "tags": [],
            "needs_background": "light"
          }
        },
        {
          "output_type": "display_data",
          "data": {
            "image/png": "[encoded data removed]",
            "text/plain": [
              "<Figure size 432x288 with 1 Axes>"
            ]
          },
          "metadata": {
            "tags": [],
            "needs_background": "light"
          }
        }
      ]
    },
    {
      "cell_type": "markdown",
      "metadata": {
        "id": "DngGDsZFsZNe"
      },
      "source": [
        "Otro manejo básico de los textos es conocer su cantidad de **tokens** (casos) y **types** (tipos), así como las medidas de **riqueza léxica**. Así, mientras los tokens representan la cantidad de ocurrencias de un ítem, los types representan el valor único de cada ítem independiente de su número de aparición. \n",
        "\n"
      ]
    },
    {
      "cell_type": "code",
      "metadata": {
        "colab": {
          "base_uri": "https://localhost:8080/"
        },
        "id": "YAcTdQoHsg7L",
        "outputId": "4ace0e39-ab62-4941-cb2a-21ed535042f2"
      },
      "source": [
        "print(\"Orgullo y Prejuicio posee un total de \", len(text2), \"tokens\")\n",
        "print(\"Orgullo y Prejuicio posee un total de \", len(set(text2)), \"types\")"
      ],
      "execution_count": 8,
      "outputs": [
        {
          "output_type": "stream",
          "text": [
            "Orgullo y Prejuicio posee un total de  141576 tokens\n",
            "Orgullo y Prejuicio posee un total de  6833 types\n"
          ],
          "name": "stdout"
        }
      ]
    },
    {
      "cell_type": "markdown",
      "metadata": {
        "id": "No3oRNYhwHTo"
      },
      "source": [
        "A partir de estas medidas se obtiene la diversidad léxica, tal que\n",
        "$ riqueza = \\frac{token}{type}$. Entonces, a partir de esta ecuación, podemos decir que :"
      ]
    },
    {
      "cell_type": "code",
      "metadata": {
        "colab": {
          "base_uri": "https://localhost:8080/"
        },
        "id": "0dz2ndc7xbRI",
        "outputId": "24e141a1-4ba2-4cb7-8944-ac232f75668c"
      },
      "source": [
        "print(\"Cada palabra en Orgullo y Prejuicio se ocupa en promedio unas\", len(text2)/len(set(text2)))"
      ],
      "execution_count": 9,
      "outputs": [
        {
          "output_type": "stream",
          "text": [
            "Cada palabra en Orgullo y Prejuicio se ocupa en promedio unas 20.719449729255086\n"
          ],
          "name": "stdout"
        }
      ]
    },
    {
      "cell_type": "markdown",
      "metadata": {
        "id": "9KeT4G9Fx8FW"
      },
      "source": [
        "Medidas como la diversidad léxica y el cálculo de porcentajes pueden operacionalizarse rápidamente en **funciones** con el operador `def`:"
      ]
    },
    {
      "cell_type": "code",
      "metadata": {
        "id": "ymfFiRliyqeI"
      },
      "source": [
        "def diversidad_lexica(text):\n",
        "  return len(text)/len(set(text))\n",
        "\n",
        "def porcentaje(count, total):\n",
        "  return 100 * count/total"
      ],
      "execution_count": 10,
      "outputs": []
    },
    {
      "cell_type": "markdown",
      "metadata": {
        "id": "zIViYTRxzKw9"
      },
      "source": [
        "Con estas funciones ya definidas, podemos ocuparlas con cualquier texto. "
      ]
    },
    {
      "cell_type": "code",
      "metadata": {
        "colab": {
          "base_uri": "https://localhost:8080/"
        },
        "id": "Bco9Xxa1yrqV",
        "outputId": "cb67a357-096d-4ad2-808a-e284fb405c32"
      },
      "source": [
        "print(\"Moby Dick posee una diversidad léxica de\", diversidad_lexica(text1))"
      ],
      "execution_count": 11,
      "outputs": [
        {
          "output_type": "stream",
          "text": [
            "Moby Dick posee una diversidad léxica de 13.502044830977896\n"
          ],
          "name": "stdout"
        }
      ]
    },
    {
      "cell_type": "code",
      "metadata": {
        "colab": {
          "base_uri": "https://localhost:8080/"
        },
        "id": "YgkYtfaHzcsr",
        "outputId": "36ac522f-aaca-4e79-8946-46886115a048"
      },
      "source": [
        "print(\"La palabra `love` representa un\", porcentaje(text1.count(\"love\"), len(text1)), \"de Orgullo y Prejuicio\")"
      ],
      "execution_count": 12,
      "outputs": [
        {
          "output_type": "stream",
          "text": [
            "La palabra `love` representa un 0.009201783612390201 de Orgullo y Prejuicio\n"
          ],
          "name": "stdout"
        }
      ]
    },
    {
      "cell_type": "markdown",
      "metadata": {
        "id": "FyNbySZN1WPD"
      },
      "source": [
        "Desde un punto de vista computacional, los textos son una lista de palabras y símbolos de puntuación. Con esta visión, un token posee una posición conocida como **index** (en Python los index parten en 0, en R parten en 1). El index puede ser recuperado desde una palabra o con un número:"
      ]
    },
    {
      "cell_type": "code",
      "metadata": {
        "colab": {
          "base_uri": "https://localhost:8080/"
        },
        "id": "8qUNVNOB05LZ",
        "outputId": "71acfe6e-58fd-44e2-b49d-e46fa0d9d495"
      },
      "source": [
        "print(\"La palabra `love` se encuentra en el index\", text2.index(\"love\"))\n",
        "print(text2[1447])"
      ],
      "execution_count": 13,
      "outputs": [
        {
          "output_type": "stream",
          "text": [
            "La palabra `love` se encuentra en el index 1447\n",
            "love\n"
          ],
          "name": "stdout"
        }
      ]
    },
    {
      "cell_type": "markdown",
      "metadata": {
        "id": "4T-z7-7E6UYs"
      },
      "source": [
        "## Frecuencias\n",
        "\n",
        "Estadísticamente, también podemos observar la distribución de frecuencia de los diferentes textos. Para esto, ocupamos la función `FreqDist()`:"
      ]
    },
    {
      "cell_type": "code",
      "metadata": {
        "colab": {
          "base_uri": "https://localhost:8080/"
        },
        "id": "eVb7vtUU6gwJ",
        "outputId": "ffe95414-ad35-4e5f-b552-0a720ab1d57a"
      },
      "source": [
        "fdist2 = FreqDist(text2)\n",
        "vocabulario2 = fdist2.keys()\n",
        "print(\"La palabra `love` posee una frecuencia de\", fdist2[\"love\"])"
      ],
      "execution_count": 14,
      "outputs": [
        {
          "output_type": "stream",
          "text": [
            "La palabra `love` posee una frecuencia de 77\n"
          ],
          "name": "stdout"
        }
      ]
    },
    {
      "cell_type": "markdown",
      "metadata": {
        "id": "-J4r6brj7moO"
      },
      "source": [
        "Podemos graficar esta distribución con el método `plot(n, cumulative)` sobre el objeto `fdist2`. No obstante, muchas de las palabras que recupera son poco informativas, como determinantes o puntuaciones:\n",
        "\n"
      ]
    },
    {
      "cell_type": "code",
      "metadata": {
        "colab": {
          "base_uri": "https://localhost:8080/",
          "height": 316
        },
        "id": "3b-s9MGP8Ugh",
        "outputId": "4d5b6c54-17e3-444f-9e60-8f9e7d6be230"
      },
      "source": [
        "fdist2.plot(50, cumulative = True)"
      ],
      "execution_count": 15,
      "outputs": [
        {
          "output_type": "display_data",
          "data": {
            "image/png": "[encoded data removed]",
            "text/plain": [
              "<Figure size 432x288 with 1 Axes>"
            ]
          },
          "metadata": {
            "tags": [],
            "needs_background": "light"
          }
        }
      ]
    },
    {
      "cell_type": "markdown",
      "metadata": {
        "id": "mFXcwOpf-P4S"
      },
      "source": [
        "Por medio de un condicional como `[w for w in V if len(w) > 4]` logramos que se seleccionen solo palabras con una extensión mayor a 4 caracteres. "
      ]
    },
    {
      "cell_type": "code",
      "metadata": {
        "colab": {
          "base_uri": "https://localhost:8080/",
          "height": 332
        },
        "id": "Yub0jyNr-TwH",
        "outputId": "a812b423-bc3b-4be2-87ed-703884fa4948"
      },
      "source": [
        "V = set(text2)\n",
        "long_words = [w for w in V if len(w) > 4]\n",
        "fdist_long = FreqDist(long_words)\n",
        "fdist_long.plot(50, cumulative = True)"
      ],
      "execution_count": 16,
      "outputs": [
        {
          "output_type": "display_data",
          "data": {
            "image/png": "[encoded data removed]",
            "text/plain": [
              "<Figure size 432x288 with 1 Axes>"
            ]
          },
          "metadata": {
            "tags": [],
            "needs_background": "light"
          }
        }
      ]
    },
    {
      "cell_type": "markdown",
      "metadata": {
        "id": "9-9FoMa0Bd1f"
      },
      "source": [
        "## Colocaciones y bigramas\n",
        "\n",
        "Las colocaciones son conjuntos de palabras que suelen ocurrir juntas (como *vino tinto*). La observaciones de estos implican la revisión de bigramas. Así, toda colocación es un n-grama, pero no todo n-grama es una colocación. El método `.collocations()` expone estos bigramas:"
      ]
    },
    {
      "cell_type": "code",
      "metadata": {
        "colab": {
          "base_uri": "https://localhost:8080/"
        },
        "id": "aPijapuRCwWT",
        "outputId": "694b75bd-92f3-4f26-b43e-7087c433a6a2"
      },
      "source": [
        "text2.collocations()"
      ],
      "execution_count": 17,
      "outputs": [
        {
          "output_type": "stream",
          "text": [
            "Colonel Brandon; Sir John; Lady Middleton; Miss Dashwood; every thing;\n",
            "thousand pounds; dare say; Miss Steeles; said Elinor; Miss Steele;\n",
            "every body; John Dashwood; great deal; Harley Street; Berkeley Street;\n",
            "Miss Dashwoods; young man; Combe Magna; every day; next morning\n"
          ],
          "name": "stdout"
        }
      ]
    },
    {
      "cell_type": "markdown",
      "metadata": {
        "id": "Uj8KcKc1C5iq"
      },
      "source": [
        "Lo interesante de las colocaciones es que muestran patrones léxicogramaticales propios de cada género o tipo de texto. En el caso anterior de Orgullo y Prejuicio, las colocaciones suelen ser nombres (e.g. *colonel Brandon*), periodos de tiempo (e.g. *every day*) y lugares (e.g. *Berkeley Street*)."
      ]
    },
    {
      "cell_type": "code",
      "metadata": {
        "colab": {
          "base_uri": "https://localhost:8080/"
        },
        "id": "lkKQ7b8EDWG1",
        "outputId": "bd781832-1336-4b76-e418-c3f196ae4200"
      },
      "source": [
        "text1.collocations()"
      ],
      "execution_count": 18,
      "outputs": [
        {
          "output_type": "stream",
          "text": [
            "Sperm Whale; Moby Dick; White Whale; old man; Captain Ahab; sperm\n",
            "whale; Right Whale; Captain Peleg; New Bedford; Cape Horn; cried Ahab;\n",
            "years ago; lower jaw; never mind; Father Mapple; cried Stubb; chief\n",
            "mate; white whale; ivory leg; one hand\n"
          ],
          "name": "stdout"
        }
      ]
    },
    {
      "cell_type": "markdown",
      "metadata": {
        "id": "uMBjn4N_6wzu"
      },
      "source": [
        "Con estos recursos, entonces, es posible construir condicionales en una única línea de código que recupere los ítemes que sean `True` según condicionales:"
      ]
    },
    {
      "cell_type": "code",
      "metadata": {
        "colab": {
          "base_uri": "https://localhost:8080/"
        },
        "id": "X3QSpC8w2_nR",
        "outputId": "503531ef-62bf-448f-9dcc-3471030b0d76"
      },
      "source": [
        "sorted([w for w in set(text7) if '-' in w and 'index' in w])\n",
        "sorted([t for t in set(text2) if 'cie' in t or 'cei' in t])\n",
        "sorted([amor for amor in set(text2) if 'love' in amor])\n",
        "sorted([año for año in set(text2) if año.isdigit() and len(año) >= 4])\n",
        "len(set([word.lower() for word in text1 if word.isalpha()]))"
      ],
      "execution_count": 19,
      "outputs": [
        {
          "output_type": "execute_result",
          "data": {
            "text/plain": [
              "16948"
            ]
          },
          "metadata": {
            "tags": []
          },
          "execution_count": 19
        }
      ]
    },
    {
      "cell_type": "markdown",
      "metadata": {
        "id": "k8muM19L77Ya"
      },
      "source": [
        "Además, Python permite hacer un `loop` en el texto:\n"
      ]
    },
    {
      "cell_type": "code",
      "metadata": {
        "colab": {
          "base_uri": "https://localhost:8080/"
        },
        "id": "jjakeEBM8AZM",
        "outputId": "11759b49-b245-415c-e65f-72d1df31b95e"
      },
      "source": [
        "tricky = sorted([w for w in set(text2) if 'cie' in w or 'cei' in w])\n",
        "for word in tricky:\n",
        "  print(word)"
      ],
      "execution_count": 20,
      "outputs": [
        {
          "output_type": "stream",
          "text": [
            "ancient\n",
            "ceiling\n",
            "conceit\n",
            "conceited\n",
            "conceive\n",
            "conscience\n",
            "conscientious\n",
            "conscientiously\n",
            "deceitful\n",
            "deceive\n",
            "deceived\n",
            "deceiving\n",
            "deficiencies\n",
            "deficiency\n",
            "deficient\n",
            "delicacies\n",
            "excellencies\n",
            "fancied\n",
            "insufficiency\n",
            "insufficient\n",
            "legacies\n",
            "perceive\n",
            "perceived\n",
            "perceiving\n",
            "prescience\n",
            "prophecies\n",
            "receipt\n",
            "receive\n",
            "received\n",
            "receiving\n",
            "society\n",
            "species\n",
            "sufficient\n",
            "sufficiently\n",
            "undeceive\n",
            "undeceiving\n"
          ],
          "name": "stdout"
        }
      ]
    },
    {
      "cell_type": "markdown",
      "metadata": {
        "id": "S-FEP3Ou8WSg"
      },
      "source": [
        "## Ejercicios\n",
        "\n",
        "1. Produce a dispersion plot of the four main protagonists in Sense and Sensibility: Elinor, Marianne, Edward, and Willoughby. What can you observe about the different roles played by the males and females in this novel? Can you identify the couples? \n",
        "\n",
        "**R::** Pareciera que las mujeres siempre están presentes en la obra, mientras que los hombres van intercalando su presencia. Es decir, cuando Edward es mencionado, Willoughby no lo es. En otras palabras, las mujeres articulan la historia y el diálogo. En cuanto a las parejas, creo que Edward se queda con Elinor, en tanto ambos dialogan mucho al final. Por su parte, Marianne y Willoughby no parecen seguir juntos."
      ]
    },
    {
      "cell_type": "code",
      "metadata": {
        "colab": {
          "base_uri": "https://localhost:8080/",
          "height": 295
        },
        "id": "xzYy3pB-_BRx",
        "outputId": "0a5285e6-8984-408f-93ca-088f2ff39263"
      },
      "source": [
        "text2.dispersion_plot([\"Elinor\", \"Edward\", \"Marianne\", \"Willoughby\"])"
      ],
      "execution_count": 21,
      "outputs": [
        {
          "output_type": "display_data",
          "data": {
            "image/png": "[encoded data removed]",
            "text/plain": [
              "<Figure size 432x288 with 1 Axes>"
            ]
          },
          "metadata": {
            "tags": [],
            "needs_background": "light"
          }
        }
      ]
    },
    {
      "cell_type": "markdown",
      "metadata": {
        "id": "P-1x2tMvJJRv"
      },
      "source": [
        "2. Find the collocations in text5."
      ]
    },
    {
      "cell_type": "code",
      "metadata": {
        "colab": {
          "base_uri": "https://localhost:8080/"
        },
        "id": "-x0Axup1CDqh",
        "outputId": "ae0e0d41-933a-4b2c-c7f1-e2bbca5ec39f"
      },
      "source": [
        "text5.collocations()"
      ],
      "execution_count": 23,
      "outputs": [
        {
          "output_type": "stream",
          "text": [
            "wanna chat; PART JOIN; MODE #14-19teens; JOIN PART; PART PART;\n",
            "cute.-ass MP3; MP3 player; JOIN JOIN; times .. .; ACTION watches; guys\n",
            "wanna; song lasts; last night; ACTION sits; -...)...- S.M.R.; Lime\n",
            "Player; Player 12%; dont know; lez gurls; long time\n"
          ],
          "name": "stdout"
        }
      ]
    },
    {
      "cell_type": "markdown",
      "metadata": {
        "id": "tGWEmA4BDLon"
      },
      "source": [
        "3. Use `text9.index()` to find the index of the word sunset. You’ll need to insert this word as an argument between the parentheses. By a process of trial and error, find the slice for the complete sentence that contains this word."
      ]
    },
    {
      "cell_type": "code",
      "metadata": {
        "colab": {
          "base_uri": "https://localhost:8080/"
        },
        "id": "xQpcprb-CuZh",
        "outputId": "63e0f756-37c5-463c-c159-2740ffc8dca7"
      },
      "source": [
        "print(\"El item `sunset` se encuentra en el index\", text9.index(\"sunset\"))\n",
        "text9[621:644]"
      ],
      "execution_count": 24,
      "outputs": [
        {
          "output_type": "stream",
          "text": [
            "El item `sunset` se encuentra en el index 629\n"
          ],
          "name": "stdout"
        },
        {
          "output_type": "execute_result",
          "data": {
            "text/plain": [
              "['THE',\n",
              " 'suburb',\n",
              " 'of',\n",
              " 'Saffron',\n",
              " 'Park',\n",
              " 'lay',\n",
              " 'on',\n",
              " 'the',\n",
              " 'sunset',\n",
              " 'side',\n",
              " 'of',\n",
              " 'London',\n",
              " ',',\n",
              " 'as',\n",
              " 'red',\n",
              " 'and',\n",
              " 'ragged',\n",
              " 'as',\n",
              " 'a',\n",
              " 'cloud',\n",
              " 'of',\n",
              " 'sunset',\n",
              " '.']"
            ]
          },
          "metadata": {
            "tags": []
          },
          "execution_count": 24
        }
      ]
    },
    {
      "cell_type": "markdown",
      "metadata": {
        "id": "PjjWgxa3DjDN"
      },
      "source": [
        "4. Using list addition, and the set and sorted operations, compute the vocabulary of the sentences sent1 ... sent8."
      ]
    },
    {
      "cell_type": "code",
      "metadata": {
        "colab": {
          "base_uri": "https://localhost:8080/"
        },
        "id": "c8Xj2hSdDljC",
        "outputId": "d44bdafc-7911-4706-f45f-72b4d66b45c7"
      },
      "source": [
        "sent_total = sent1 + sent2 + sent3 + sent4 + sent5 + sent6 + sent7 + sent8\n",
        "print(\"El total de oraciones 1...8 posee un total de tipos de\", len(sorted(set(sent_total))))"
      ],
      "execution_count": 25,
      "outputs": [
        {
          "output_type": "stream",
          "text": [
            "El total de oraciones 1...8 posee un total de tipos de 75\n"
          ],
          "name": "stdout"
        }
      ]
    },
    {
      "cell_type": "markdown",
      "metadata": {
        "id": "oGYdY1tREE8_"
      },
      "source": [
        "5. What is the difference between the following two lines? Which one will give a larger value? Will this be the case for other texts?"
      ]
    },
    {
      "cell_type": "code",
      "metadata": {
        "colab": {
          "base_uri": "https://localhost:8080/"
        },
        "id": "Ea0zHkpRESKS",
        "outputId": "ebf11f27-165b-4183-c7ba-a7c25c8b615d"
      },
      "source": [
        "len(sorted(set([w.lower() for w in text1]))) # 17231\n",
        "len(sorted([w.lower() for w in set(text1)])) # 19317"
      ],
      "execution_count": 26,
      "outputs": [
        {
          "output_type": "execute_result",
          "data": {
            "text/plain": [
              "19317"
            ]
          },
          "metadata": {
            "tags": []
          },
          "execution_count": 26
        }
      ]
    },
    {
      "cell_type": "markdown",
      "metadata": {
        "id": "WVy6tUUqEliF"
      },
      "source": [
        "6. Write the slice expression that extracts the last two words of text2."
      ]
    },
    {
      "cell_type": "code",
      "metadata": {
        "colab": {
          "base_uri": "https://localhost:8080/"
        },
        "id": "WfqnlmQAEu1I",
        "outputId": "0ab76007-0cb4-40f3-8cf7-2ca558dc5d11"
      },
      "source": [
        "text2[-2:]"
      ],
      "execution_count": 27,
      "outputs": [
        {
          "output_type": "execute_result",
          "data": {
            "text/plain": [
              "['THE', 'END']"
            ]
          },
          "metadata": {
            "tags": []
          },
          "execution_count": 27
        }
      ]
    },
    {
      "cell_type": "markdown",
      "metadata": {
        "id": "CsgNRNh0F_0V"
      },
      "source": [
        "7. Find all the four-letter words in the Chat Corpus (text5). With the help of a frequency distribution (FreqDist), show these words in decreasing order of fre- quency."
      ]
    },
    {
      "cell_type": "code",
      "metadata": {
        "colab": {
          "base_uri": "https://localhost:8080/",
          "height": 296
        },
        "id": "blMTs-azGA0B",
        "outputId": "ca283611-61b6-46c6-bb47-12d903c2ec91"
      },
      "source": [
        "four_letter = [f for f in text5 if len(f) == 4 and f.isalpha()]\n",
        "freqfour = FreqDist(four_letter)\n",
        "freqfour.plot(30, cumulative = False)"
      ],
      "execution_count": 28,
      "outputs": [
        {
          "output_type": "display_data",
          "data": {
            "image/png": "[encoded data removed]",
            "text/plain": [
              "<Figure size 432x288 with 1 Axes>"
            ]
          },
          "metadata": {
            "tags": [],
            "needs_background": "light"
          }
        }
      ]
    },
    {
      "cell_type": "markdown",
      "metadata": {
        "id": "KMIa2aROHK4-"
      },
      "source": [
        "8. Review the discussion of looping with conditions in Section 1.4. Use a combination of for and if statements to loop over the words of the movie script for Monty Python and the Holy Grail (text6) and print all the uppercase words, one per line."
      ]
    },
    {
      "cell_type": "code",
      "metadata": {
        "id": "KOJOl4udHQkm"
      },
      "source": [
        "for up in set(text6):\n",
        "  if up.isupper():\n",
        "    print(up)"
      ],
      "execution_count": null,
      "outputs": []
    },
    {
      "cell_type": "markdown",
      "metadata": {
        "id": "Hp7qMPvJJslG"
      },
      "source": [
        "9. Write expressions for finding all words in text6 that meet the following conditions:\n",
        "\n",
        "\n",
        "1.   Ending in ize\n",
        "2.   Containing the letter z\n",
        "3.   Containing the sequence of letters pt\n",
        "4.   All lowercase letters except for an initial capital (i.e., titlecase)\n",
        "\n"
      ]
    },
    {
      "cell_type": "code",
      "metadata": {
        "id": "aerGwDmcKUdX"
      },
      "source": [
        "%%capture\n",
        "z = sorted([w for w in set(text6) if 'z' in w])\n",
        "ize = sorted([w for w in set(text6) if w.endswith(\"ize\")])\n",
        "pt = sorted([w for w in set(text6) if 'pt' in w])\n",
        "title = sorted([w for w in set(text6) if w.istitle()])"
      ],
      "execution_count": 71,
      "outputs": []
    },
    {
      "cell_type": "markdown",
      "metadata": {
        "id": "OyTWrzCkMEC7"
      },
      "source": [
        "8. **Define sent to be the list of words ['she', 'sells', 'sea', 'shells', 'by', 'the', 'sea', 'shore']. Now write code to perform the following tasks:**\n",
        "\n",
        "\n",
        "1. Print all words beginning with sh.\n",
        "2. Print all words longer than four characters"
      ]
    },
    {
      "cell_type": "code",
      "metadata": {
        "colab": {
          "base_uri": "https://localhost:8080/"
        },
        "id": "bYWhW_7WMPen",
        "outputId": "17509dca-b5db-47ad-95dd-4166bf0d9036"
      },
      "source": [
        "sent =  ['she', 'sells', 'sea', 'shells', 'by', 'the', 'sea', 'shore']\n",
        "sh = sorted([w for w in sent if w.startswith(\"sh\")])\n",
        "longer_than_four = sorted([f for f in sent if len(f) > 4])\n",
        "print(\"Las palabras que empiezan con `sh` son\", sh)\n",
        "print(\"Las palabras mayores a cuatro letras son\", longer_than_four)"
      ],
      "execution_count": 46,
      "outputs": [
        {
          "output_type": "stream",
          "text": [
            "Las palabras que empiezan con `sh` son ['she', 'shells', 'shore']\n",
            "Las palabras mayores a cuatro letras son ['sells', 'shells', 'shore']\n"
          ],
          "name": "stdout"
        }
      ]
    },
    {
      "cell_type": "markdown",
      "metadata": {
        "id": "wisZhDOuNIOa"
      },
      "source": [
        "9.**What does the following Python code do? sum([len(w) for w in text1]) Can you use it to work out the average word length of a text?**\n",
        "\n",
        "Este código suma el largo total de las palabras en el text1"
      ]
    },
    {
      "cell_type": "code",
      "metadata": {
        "colab": {
          "base_uri": "https://localhost:8080/"
        },
        "id": "Byg7_oaGNP7d",
        "outputId": "42a17862-f6fc-40a1-9dd2-6515c7337d30"
      },
      "source": [
        "mean_word = sum([len(w) for w in text1])/len(text1)\n",
        "print(\"El texto 1 posee un largo medio de palabra de\", round(mean_word, 1))"
      ],
      "execution_count": 55,
      "outputs": [
        {
          "output_type": "stream",
          "text": [
            "El texto 1 posee un largo medio de palabra de 3.8\n"
          ],
          "name": "stdout"
        }
      ]
    },
    {
      "cell_type": "markdown",
      "metadata": {
        "id": "IdtvxJVAOaMd"
      },
      "source": [
        "10. **Define a function called vocab_size(text) that has a single parameter for the text, and which returns the vocabulary size of the text.**"
      ]
    },
    {
      "cell_type": "code",
      "metadata": {
        "colab": {
          "base_uri": "https://localhost:8080/"
        },
        "id": "_4qsnOA9ObiM",
        "outputId": "b986bb29-ed25-452e-868d-feff55deddb0"
      },
      "source": [
        "def vocab_size(text):\n",
        "  types = len(set(text))\n",
        "  token = len(text)\n",
        "  richness = token/types\n",
        "  return print(\"El texto posee un tamaño de vocabulario de\", token, \"tokens y\", types, \"types\", \"y una diversidad de\", round(richness, 1))\n",
        "\n",
        "vocab_size(text1)"
      ],
      "execution_count": 67,
      "outputs": [
        {
          "output_type": "stream",
          "text": [
            "El texto posee un tamaño de vocabulario de 260819 tokens y 19317 types y una diversidad de 13.5\n"
          ],
          "name": "stdout"
        }
      ]
    }
  ]
}